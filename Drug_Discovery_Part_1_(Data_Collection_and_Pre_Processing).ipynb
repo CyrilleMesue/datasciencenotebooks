{
  "nbformat": 4,
  "nbformat_minor": 0,
  "metadata": {
    "colab": {
      "name": "Drug Discovery Part 1 (Data Collection and Pre-Processing).ipynb",
      "provenance": [],
      "collapsed_sections": [],
      "include_colab_link": true
    },
    "kernelspec": {
      "name": "python3",
      "display_name": "Python 3"
    }
  },
  "cells": [
    {
      "cell_type": "markdown",
      "metadata": {
        "id": "view-in-github",
        "colab_type": "text"
      },
      "source": [
        "<a href=\"https://colab.research.google.com/github/CyrilleMesue/datascienceprojects.github.io/blob/main/Drug_Discovery_Part_1_(Data_Collection_and_Pre_Processing).ipynb\" target=\"_parent\"><img src=\"https://colab.research.google.com/assets/colab-badge.svg\" alt=\"Open In Colab\"/></a>"
      ]
    },
    {
      "cell_type": "markdown",
      "metadata": {
        "id": "wSFbIMb87cHu"
      },
      "source": [
        "# **Computational Drug Discovery [Part 1] Download Bioactivity Data**\n",
        "\n",
        "Cyrille Mesue NJUME\n",
        "\n",
        "Adapted from, Chanin Nantasenamat [*'Data Professor' YouTube channel*](http://youtube.com/dataprofessor)\n",
        "\n",
        "In this Jupyter notebook, we will be building a real-life **data science project** that you can include in your **data science portfolio**. Particularly, we will be building a machine learning model using the ChEMBL bioactivity data.\n",
        "\n",
        "---"
      ]
    },
    {
      "cell_type": "markdown",
      "metadata": {
        "id": "3iQiERxumDor"
      },
      "source": [
        "## **ChEMBL Database**\n",
        "\n",
        "The [*ChEMBL Database*](https://www.ebi.ac.uk/chembl/) is a database that contains curated bioactivity data of more than 2 million compounds. It is compiled from more than 76,000 documents, 1.2 million assays and the data spans 13,000 targets and 1,800 cells and 33,000 indications.\n",
        "[Data as of March 25, 2020; ChEMBL version 26]."
      ]
    },
    {
      "cell_type": "markdown",
      "metadata": {
        "id": "iryGAwAIQ4yf"
      },
      "source": [
        "## **Installing libraries**"
      ]
    },
    {
      "cell_type": "markdown",
      "metadata": {
        "id": "toGT1U_B7F2i"
      },
      "source": [
        "Install the ChEMBL web service package so that we can retrieve bioactivity data from the ChEMBL Database."
      ]
    },
    {
      "cell_type": "code",
      "metadata": {
        "id": "cJGExHQBfLh7",
        "colab": {
          "base_uri": "https://localhost:8080/"
        },
        "outputId": "9c533cf6-0af4-4b7a-da1a-54d9431b49b4"
      },
      "source": [
        "! pip install chembl_webresource_client"
      ],
      "execution_count": 1,
      "outputs": [
        {
          "output_type": "stream",
          "name": "stdout",
          "text": [
            "Collecting chembl_webresource_client\n",
            "  Downloading chembl_webresource_client-0.10.7-py3-none-any.whl (55 kB)\n",
            "\u001b[?25l\r\u001b[K     |██████                          | 10 kB 26.1 MB/s eta 0:00:01\r\u001b[K     |███████████▉                    | 20 kB 29.0 MB/s eta 0:00:01\r\u001b[K     |█████████████████▊              | 30 kB 11.8 MB/s eta 0:00:01\r\u001b[K     |███████████████████████▋        | 40 kB 9.2 MB/s eta 0:00:01\r\u001b[K     |█████████████████████████████▌  | 51 kB 5.2 MB/s eta 0:00:01\r\u001b[K     |████████████████████████████████| 55 kB 2.1 MB/s \n",
            "\u001b[?25hRequirement already satisfied: requests>=2.18.4 in /usr/local/lib/python3.7/dist-packages (from chembl_webresource_client) (2.23.0)\n",
            "Collecting requests-cache~=0.7.0\n",
            "  Downloading requests_cache-0.7.5-py3-none-any.whl (39 kB)\n",
            "Requirement already satisfied: urllib3 in /usr/local/lib/python3.7/dist-packages (from chembl_webresource_client) (1.24.3)\n",
            "Requirement already satisfied: easydict in /usr/local/lib/python3.7/dist-packages (from chembl_webresource_client) (1.9)\n",
            "Requirement already satisfied: chardet<4,>=3.0.2 in /usr/local/lib/python3.7/dist-packages (from requests>=2.18.4->chembl_webresource_client) (3.0.4)\n",
            "Requirement already satisfied: certifi>=2017.4.17 in /usr/local/lib/python3.7/dist-packages (from requests>=2.18.4->chembl_webresource_client) (2021.5.30)\n",
            "Requirement already satisfied: idna<3,>=2.5 in /usr/local/lib/python3.7/dist-packages (from requests>=2.18.4->chembl_webresource_client) (2.10)\n",
            "Collecting itsdangerous>=2.0.1\n",
            "  Downloading itsdangerous-2.0.1-py3-none-any.whl (18 kB)\n",
            "Collecting url-normalize<2.0,>=1.4\n",
            "  Downloading url_normalize-1.4.3-py2.py3-none-any.whl (6.8 kB)\n",
            "Collecting pyyaml>=5.4\n",
            "  Downloading PyYAML-6.0-cp37-cp37m-manylinux_2_5_x86_64.manylinux1_x86_64.manylinux_2_12_x86_64.manylinux2010_x86_64.whl (596 kB)\n",
            "\u001b[K     |████████████████████████████████| 596 kB 16.9 MB/s \n",
            "\u001b[?25hRequirement already satisfied: attrs<22.0,>=21.2 in /usr/local/lib/python3.7/dist-packages (from requests-cache~=0.7.0->chembl_webresource_client) (21.2.0)\n",
            "Requirement already satisfied: six in /usr/local/lib/python3.7/dist-packages (from url-normalize<2.0,>=1.4->requests-cache~=0.7.0->chembl_webresource_client) (1.15.0)\n",
            "Installing collected packages: url-normalize, pyyaml, itsdangerous, requests-cache, chembl-webresource-client\n",
            "  Attempting uninstall: pyyaml\n",
            "    Found existing installation: PyYAML 3.13\n",
            "    Uninstalling PyYAML-3.13:\n",
            "      Successfully uninstalled PyYAML-3.13\n",
            "  Attempting uninstall: itsdangerous\n",
            "    Found existing installation: itsdangerous 1.1.0\n",
            "    Uninstalling itsdangerous-1.1.0:\n",
            "      Successfully uninstalled itsdangerous-1.1.0\n",
            "\u001b[31mERROR: pip's dependency resolver does not currently take into account all the packages that are installed. This behaviour is the source of the following dependency conflicts.\n",
            "flask 1.1.4 requires itsdangerous<2.0,>=0.24, but you have itsdangerous 2.0.1 which is incompatible.\u001b[0m\n",
            "Successfully installed chembl-webresource-client-0.10.7 itsdangerous-2.0.1 pyyaml-6.0 requests-cache-0.7.5 url-normalize-1.4.3\n"
          ]
        }
      ]
    },
    {
      "cell_type": "markdown",
      "metadata": {
        "id": "J0kJjL8gb5nX"
      },
      "source": [
        "## **Importing libraries**"
      ]
    },
    {
      "cell_type": "code",
      "metadata": {
        "id": "RXoCvMPPfNrv"
      },
      "source": [
        "# Import necessary libraries\n",
        "import pandas as pd\n",
        "import matplotlib.pyplot as plt\n",
        "import numpy as np\n",
        "from chembl_webresource_client.new_client import new_client"
      ],
      "execution_count": 91,
      "outputs": []
    },
    {
      "cell_type": "markdown",
      "metadata": {
        "id": "1FgUai1bfigC"
      },
      "source": [
        "## **Search for Target protein**"
      ]
    },
    {
      "cell_type": "markdown",
      "metadata": {
        "id": "7lBsDrD0gAqH"
      },
      "source": [
        "### **Target search for cancer**"
      ]
    },
    {
      "cell_type": "code",
      "metadata": {
        "id": "Vxtp79so4ZjF",
        "colab": {
          "base_uri": "https://localhost:8080/",
          "height": 1000
        },
        "outputId": "2158c48f-7ef1-4d94-eaa9-38b283593355"
      },
      "source": [
        "# Target search for cancer\n",
        "target = new_client.target\n",
        "target_query = target.search('cancer')\n",
        "targets = pd.DataFrame.from_dict(target_query)\n",
        "targets[0:20]"
      ],
      "execution_count": 54,
      "outputs": [
        {
          "output_type": "execute_result",
          "data": {
            "text/html": [
              "<div>\n",
              "<style scoped>\n",
              "    .dataframe tbody tr th:only-of-type {\n",
              "        vertical-align: middle;\n",
              "    }\n",
              "\n",
              "    .dataframe tbody tr th {\n",
              "        vertical-align: top;\n",
              "    }\n",
              "\n",
              "    .dataframe thead th {\n",
              "        text-align: right;\n",
              "    }\n",
              "</style>\n",
              "<table border=\"1\" class=\"dataframe\">\n",
              "  <thead>\n",
              "    <tr style=\"text-align: right;\">\n",
              "      <th></th>\n",
              "      <th>cross_references</th>\n",
              "      <th>organism</th>\n",
              "      <th>pref_name</th>\n",
              "      <th>score</th>\n",
              "      <th>species_group_flag</th>\n",
              "      <th>target_chembl_id</th>\n",
              "      <th>target_components</th>\n",
              "      <th>target_type</th>\n",
              "      <th>tax_id</th>\n",
              "    </tr>\n",
              "  </thead>\n",
              "  <tbody>\n",
              "    <tr>\n",
              "      <th>0</th>\n",
              "      <td>[]</td>\n",
              "      <td>Homo sapiens</td>\n",
              "      <td>Cancer-related nucleoside-triphosphatase</td>\n",
              "      <td>14.0</td>\n",
              "      <td>False</td>\n",
              "      <td>CHEMBL4295936</td>\n",
              "      <td>[{'accession': 'Q9BSD7', 'component_descriptio...</td>\n",
              "      <td>SINGLE PROTEIN</td>\n",
              "      <td>9606.0</td>\n",
              "    </tr>\n",
              "    <tr>\n",
              "      <th>1</th>\n",
              "      <td>[{'xref_id': 'P38398', 'xref_name': None, 'xre...</td>\n",
              "      <td>Homo sapiens</td>\n",
              "      <td>Breast cancer type 1 susceptibility protein</td>\n",
              "      <td>12.0</td>\n",
              "      <td>False</td>\n",
              "      <td>CHEMBL5990</td>\n",
              "      <td>[{'accession': 'P38398', 'component_descriptio...</td>\n",
              "      <td>SINGLE PROTEIN</td>\n",
              "      <td>9606.0</td>\n",
              "    </tr>\n",
              "    <tr>\n",
              "      <th>2</th>\n",
              "      <td>[]</td>\n",
              "      <td>None</td>\n",
              "      <td>cancer cell lines</td>\n",
              "      <td>11.0</td>\n",
              "      <td>False</td>\n",
              "      <td>CHEMBL614375</td>\n",
              "      <td>[]</td>\n",
              "      <td>CELL-LINE</td>\n",
              "      <td>NaN</td>\n",
              "    </tr>\n",
              "    <tr>\n",
              "      <th>3</th>\n",
              "      <td>[{'xref_id': 'O14519', 'xref_name': None, 'xre...</td>\n",
              "      <td>Homo sapiens</td>\n",
              "      <td>Cyclin-dependent kinase 2-associated protein 1</td>\n",
              "      <td>11.0</td>\n",
              "      <td>False</td>\n",
              "      <td>CHEMBL5578</td>\n",
              "      <td>[{'accession': 'O14519', 'component_descriptio...</td>\n",
              "      <td>SINGLE PROTEIN</td>\n",
              "      <td>9606.0</td>\n",
              "    </tr>\n",
              "    <tr>\n",
              "      <th>4</th>\n",
              "      <td>[]</td>\n",
              "      <td>Homo sapiens</td>\n",
              "      <td>Ovarian cancer G-protein coupled receptor 1</td>\n",
              "      <td>11.0</td>\n",
              "      <td>False</td>\n",
              "      <td>CHEMBL3713916</td>\n",
              "      <td>[{'accession': 'Q15743', 'component_descriptio...</td>\n",
              "      <td>SINGLE PROTEIN</td>\n",
              "      <td>9606.0</td>\n",
              "    </tr>\n",
              "    <tr>\n",
              "      <th>5</th>\n",
              "      <td>[]</td>\n",
              "      <td>Mus musculus</td>\n",
              "      <td>Ovarian cancer G-protein coupled receptor 1</td>\n",
              "      <td>11.0</td>\n",
              "      <td>False</td>\n",
              "      <td>CHEMBL4523380</td>\n",
              "      <td>[{'accession': 'Q8BFQ3', 'component_descriptio...</td>\n",
              "      <td>SINGLE PROTEIN</td>\n",
              "      <td>10090.0</td>\n",
              "    </tr>\n",
              "    <tr>\n",
              "      <th>6</th>\n",
              "      <td>[]</td>\n",
              "      <td>Homo sapiens</td>\n",
              "      <td>Spindlin-1</td>\n",
              "      <td>11.0</td>\n",
              "      <td>False</td>\n",
              "      <td>CHEMBL4523509</td>\n",
              "      <td>[{'accession': 'Q9Y657', 'component_descriptio...</td>\n",
              "      <td>SINGLE PROTEIN</td>\n",
              "      <td>9606.0</td>\n",
              "    </tr>\n",
              "    <tr>\n",
              "      <th>7</th>\n",
              "      <td>[]</td>\n",
              "      <td>None</td>\n",
              "      <td>cancer cell lines (55)</td>\n",
              "      <td>10.0</td>\n",
              "      <td>False</td>\n",
              "      <td>CHEMBL614376</td>\n",
              "      <td>[]</td>\n",
              "      <td>CELL-LINE</td>\n",
              "      <td>NaN</td>\n",
              "    </tr>\n",
              "    <tr>\n",
              "      <th>8</th>\n",
              "      <td>[]</td>\n",
              "      <td>Homo sapiens</td>\n",
              "      <td>Breast cancer cell lines</td>\n",
              "      <td>10.0</td>\n",
              "      <td>False</td>\n",
              "      <td>CHEMBL614788</td>\n",
              "      <td>[]</td>\n",
              "      <td>CELL-LINE</td>\n",
              "      <td>9606.0</td>\n",
              "    </tr>\n",
              "    <tr>\n",
              "      <th>9</th>\n",
              "      <td>[]</td>\n",
              "      <td>Homo sapiens</td>\n",
              "      <td>Colon cancer cell line</td>\n",
              "      <td>10.0</td>\n",
              "      <td>False</td>\n",
              "      <td>CHEMBL612260</td>\n",
              "      <td>[]</td>\n",
              "      <td>CELL-LINE</td>\n",
              "      <td>9606.0</td>\n",
              "    </tr>\n",
              "    <tr>\n",
              "      <th>10</th>\n",
              "      <td>[]</td>\n",
              "      <td>Homo sapiens</td>\n",
              "      <td>Lung cancer cell line</td>\n",
              "      <td>10.0</td>\n",
              "      <td>False</td>\n",
              "      <td>CHEMBL614790</td>\n",
              "      <td>[]</td>\n",
              "      <td>CELL-LINE</td>\n",
              "      <td>9606.0</td>\n",
              "    </tr>\n",
              "    <tr>\n",
              "      <th>11</th>\n",
              "      <td>[]</td>\n",
              "      <td>Homo sapiens</td>\n",
              "      <td>Ovarian cancer cell line</td>\n",
              "      <td>10.0</td>\n",
              "      <td>False</td>\n",
              "      <td>CHEMBL613895</td>\n",
              "      <td>[]</td>\n",
              "      <td>CELL-LINE</td>\n",
              "      <td>9606.0</td>\n",
              "    </tr>\n",
              "    <tr>\n",
              "      <th>12</th>\n",
              "      <td>[]</td>\n",
              "      <td>Homo sapiens</td>\n",
              "      <td>Renal cancer cell line</td>\n",
              "      <td>10.0</td>\n",
              "      <td>False</td>\n",
              "      <td>CHEMBL614005</td>\n",
              "      <td>[]</td>\n",
              "      <td>CELL-LINE</td>\n",
              "      <td>9606.0</td>\n",
              "    </tr>\n",
              "    <tr>\n",
              "      <th>13</th>\n",
              "      <td>[]</td>\n",
              "      <td>Homo sapiens</td>\n",
              "      <td>Tumor cancer cell line</td>\n",
              "      <td>10.0</td>\n",
              "      <td>False</td>\n",
              "      <td>CHEMBL614648</td>\n",
              "      <td>[]</td>\n",
              "      <td>CELL-LINE</td>\n",
              "      <td>9606.0</td>\n",
              "    </tr>\n",
              "    <tr>\n",
              "      <th>14</th>\n",
              "      <td>[]</td>\n",
              "      <td>None</td>\n",
              "      <td>Lung cancer cell line</td>\n",
              "      <td>10.0</td>\n",
              "      <td>False</td>\n",
              "      <td>CHEMBL614103</td>\n",
              "      <td>[]</td>\n",
              "      <td>CELL-LINE</td>\n",
              "      <td>NaN</td>\n",
              "    </tr>\n",
              "    <tr>\n",
              "      <th>15</th>\n",
              "      <td>[{'xref_id': 'Q58F21', 'xref_name': None, 'xre...</td>\n",
              "      <td>Homo sapiens</td>\n",
              "      <td>Bromodomain testis-specific protein</td>\n",
              "      <td>10.0</td>\n",
              "      <td>False</td>\n",
              "      <td>CHEMBL1795185</td>\n",
              "      <td>[{'accession': 'Q58F21', 'component_descriptio...</td>\n",
              "      <td>SINGLE PROTEIN</td>\n",
              "      <td>9606.0</td>\n",
              "    </tr>\n",
              "    <tr>\n",
              "      <th>16</th>\n",
              "      <td>[{'xref_id': 'P04075', 'xref_name': None, 'xre...</td>\n",
              "      <td>Homo sapiens</td>\n",
              "      <td>Fructose-bisphosphate aldolase A</td>\n",
              "      <td>9.0</td>\n",
              "      <td>False</td>\n",
              "      <td>CHEMBL2106</td>\n",
              "      <td>[{'accession': 'P04075', 'component_descriptio...</td>\n",
              "      <td>SINGLE PROTEIN</td>\n",
              "      <td>9606.0</td>\n",
              "    </tr>\n",
              "    <tr>\n",
              "      <th>17</th>\n",
              "      <td>[]</td>\n",
              "      <td>None</td>\n",
              "      <td>Lung cancer tumor cell line</td>\n",
              "      <td>9.0</td>\n",
              "      <td>False</td>\n",
              "      <td>CHEMBL614104</td>\n",
              "      <td>[]</td>\n",
              "      <td>CELL-LINE</td>\n",
              "      <td>NaN</td>\n",
              "    </tr>\n",
              "    <tr>\n",
              "      <th>18</th>\n",
              "      <td>[]</td>\n",
              "      <td>Homo sapiens</td>\n",
              "      <td>PHD finger protein 13</td>\n",
              "      <td>9.0</td>\n",
              "      <td>False</td>\n",
              "      <td>CHEMBL1764945</td>\n",
              "      <td>[{'accession': 'Q86YI8', 'component_descriptio...</td>\n",
              "      <td>SINGLE PROTEIN</td>\n",
              "      <td>9606.0</td>\n",
              "    </tr>\n",
              "    <tr>\n",
              "      <th>19</th>\n",
              "      <td>[]</td>\n",
              "      <td>Homo sapiens</td>\n",
              "      <td>ATPase family AAA domain-containing protein 2</td>\n",
              "      <td>9.0</td>\n",
              "      <td>False</td>\n",
              "      <td>CHEMBL2150837</td>\n",
              "      <td>[{'accession': 'Q6PL18', 'component_descriptio...</td>\n",
              "      <td>SINGLE PROTEIN</td>\n",
              "      <td>9606.0</td>\n",
              "    </tr>\n",
              "  </tbody>\n",
              "</table>\n",
              "</div>"
            ],
            "text/plain": [
              "                                     cross_references  ...   tax_id\n",
              "0                                                  []  ...   9606.0\n",
              "1   [{'xref_id': 'P38398', 'xref_name': None, 'xre...  ...   9606.0\n",
              "2                                                  []  ...      NaN\n",
              "3   [{'xref_id': 'O14519', 'xref_name': None, 'xre...  ...   9606.0\n",
              "4                                                  []  ...   9606.0\n",
              "5                                                  []  ...  10090.0\n",
              "6                                                  []  ...   9606.0\n",
              "7                                                  []  ...      NaN\n",
              "8                                                  []  ...   9606.0\n",
              "9                                                  []  ...   9606.0\n",
              "10                                                 []  ...   9606.0\n",
              "11                                                 []  ...   9606.0\n",
              "12                                                 []  ...   9606.0\n",
              "13                                                 []  ...   9606.0\n",
              "14                                                 []  ...      NaN\n",
              "15  [{'xref_id': 'Q58F21', 'xref_name': None, 'xre...  ...   9606.0\n",
              "16  [{'xref_id': 'P04075', 'xref_name': None, 'xre...  ...   9606.0\n",
              "17                                                 []  ...      NaN\n",
              "18                                                 []  ...   9606.0\n",
              "19                                                 []  ...   9606.0\n",
              "\n",
              "[20 rows x 9 columns]"
            ]
          },
          "metadata": {},
          "execution_count": 54
        }
      ]
    },
    {
      "cell_type": "markdown",
      "metadata": {
        "id": "Y5OPfEALjAfZ"
      },
      "source": [
        "### **Select and retrieve bioactivity data for *Ovarian Cancer cell line in Homo sapiens (humans)* (twelveth entry)**"
      ]
    },
    {
      "cell_type": "markdown",
      "metadata": {
        "id": "gSQ3aroOgML7"
      },
      "source": [
        "We will assign the twelveth entry (which corresponds to the target\n",
        ", *Ovarian cancer cell line*) to the ***pref_name*** variable "
      ]
    },
    {
      "cell_type": "code",
      "metadata": {
        "id": "StrcHMVLha7u",
        "colab": {
          "base_uri": "https://localhost:8080/",
          "height": 35
        },
        "outputId": "93ac43d3-23c5-4886-8474-fe81d8052514"
      },
      "source": [
        "selected_target = targets.target_chembl_id[11]\n",
        "selected_target"
      ],
      "execution_count": 55,
      "outputs": [
        {
          "output_type": "execute_result",
          "data": {
            "application/vnd.google.colaboratory.intrinsic+json": {
              "type": "string"
            },
            "text/plain": [
              "'CHEMBL613895'"
            ]
          },
          "metadata": {},
          "execution_count": 55
        }
      ]
    },
    {
      "cell_type": "markdown",
      "metadata": {
        "id": "GWd2DRalgjzB"
      },
      "source": [
        "Here, we will retrieve only bioactivity data for *Ovarian Cancer cell line* (CHEMBL613895) that are reported as IC$_{50}$ values in nM (nanomolar) unit."
      ]
    },
    {
      "cell_type": "code",
      "metadata": {
        "id": "LeFbV_CsSP8D"
      },
      "source": [
        "activity = new_client.activity\n",
        "res = activity.filter(target_chembl_id=selected_target).filter(standard_type=\"IC50\")"
      ],
      "execution_count": 57,
      "outputs": []
    },
    {
      "cell_type": "code",
      "metadata": {
        "id": "RC4T-NEmSWV-"
      },
      "source": [
        "df = pd.DataFrame.from_dict(res)"
      ],
      "execution_count": 58,
      "outputs": []
    },
    {
      "cell_type": "code",
      "metadata": {
        "id": "s9iUAXFdSkoM",
        "colab": {
          "base_uri": "https://localhost:8080/",
          "height": 400
        },
        "outputId": "3ad27e56-4326-4cbb-bf71-4732c8b7271d"
      },
      "source": [
        "df.head()"
      ],
      "execution_count": 60,
      "outputs": [
        {
          "output_type": "execute_result",
          "data": {
            "text/html": [
              "<div>\n",
              "<style scoped>\n",
              "    .dataframe tbody tr th:only-of-type {\n",
              "        vertical-align: middle;\n",
              "    }\n",
              "\n",
              "    .dataframe tbody tr th {\n",
              "        vertical-align: top;\n",
              "    }\n",
              "\n",
              "    .dataframe thead th {\n",
              "        text-align: right;\n",
              "    }\n",
              "</style>\n",
              "<table border=\"1\" class=\"dataframe\">\n",
              "  <thead>\n",
              "    <tr style=\"text-align: right;\">\n",
              "      <th></th>\n",
              "      <th>activity_comment</th>\n",
              "      <th>activity_id</th>\n",
              "      <th>activity_properties</th>\n",
              "      <th>assay_chembl_id</th>\n",
              "      <th>assay_description</th>\n",
              "      <th>assay_type</th>\n",
              "      <th>assay_variant_accession</th>\n",
              "      <th>assay_variant_mutation</th>\n",
              "      <th>bao_endpoint</th>\n",
              "      <th>bao_format</th>\n",
              "      <th>bao_label</th>\n",
              "      <th>canonical_smiles</th>\n",
              "      <th>data_validity_comment</th>\n",
              "      <th>data_validity_description</th>\n",
              "      <th>document_chembl_id</th>\n",
              "      <th>document_journal</th>\n",
              "      <th>document_year</th>\n",
              "      <th>ligand_efficiency</th>\n",
              "      <th>molecule_chembl_id</th>\n",
              "      <th>molecule_pref_name</th>\n",
              "      <th>parent_molecule_chembl_id</th>\n",
              "      <th>pchembl_value</th>\n",
              "      <th>potential_duplicate</th>\n",
              "      <th>qudt_units</th>\n",
              "      <th>record_id</th>\n",
              "      <th>relation</th>\n",
              "      <th>src_id</th>\n",
              "      <th>standard_flag</th>\n",
              "      <th>standard_relation</th>\n",
              "      <th>standard_text_value</th>\n",
              "      <th>standard_type</th>\n",
              "      <th>standard_units</th>\n",
              "      <th>standard_upper_value</th>\n",
              "      <th>standard_value</th>\n",
              "      <th>target_chembl_id</th>\n",
              "      <th>target_organism</th>\n",
              "      <th>target_pref_name</th>\n",
              "      <th>target_tax_id</th>\n",
              "      <th>text_value</th>\n",
              "      <th>toid</th>\n",
              "      <th>type</th>\n",
              "      <th>units</th>\n",
              "      <th>uo_units</th>\n",
              "      <th>upper_value</th>\n",
              "      <th>value</th>\n",
              "    </tr>\n",
              "  </thead>\n",
              "  <tbody>\n",
              "    <tr>\n",
              "      <th>0</th>\n",
              "      <td>None</td>\n",
              "      <td>305216</td>\n",
              "      <td>[]</td>\n",
              "      <td>CHEMBL695495</td>\n",
              "      <td>Cytotoxicity in non-NTR-expressing human ovari...</td>\n",
              "      <td>F</td>\n",
              "      <td>None</td>\n",
              "      <td>None</td>\n",
              "      <td>BAO_0000190</td>\n",
              "      <td>BAO_0000219</td>\n",
              "      <td>cell-based format</td>\n",
              "      <td>COc1cc2cc(C(=O)N3CC(CCl)c4c3cc(NC(=O)OCc3ccc([...</td>\n",
              "      <td>None</td>\n",
              "      <td>None</td>\n",
              "      <td>CHEMBL1145792</td>\n",
              "      <td>J. Med. Chem.</td>\n",
              "      <td>2003</td>\n",
              "      <td>None</td>\n",
              "      <td>CHEMBL84463</td>\n",
              "      <td>None</td>\n",
              "      <td>CHEMBL84463</td>\n",
              "      <td>7.21</td>\n",
              "      <td>False</td>\n",
              "      <td>http://www.openphacts.org/units/Nanomolar</td>\n",
              "      <td>146608</td>\n",
              "      <td>=</td>\n",
              "      <td>1</td>\n",
              "      <td>True</td>\n",
              "      <td>=</td>\n",
              "      <td>None</td>\n",
              "      <td>IC50</td>\n",
              "      <td>nM</td>\n",
              "      <td>None</td>\n",
              "      <td>62.0</td>\n",
              "      <td>CHEMBL613895</td>\n",
              "      <td>Homo sapiens</td>\n",
              "      <td>Ovarian cancer cell line</td>\n",
              "      <td>9606</td>\n",
              "      <td>None</td>\n",
              "      <td>None</td>\n",
              "      <td>IC50</td>\n",
              "      <td>nM</td>\n",
              "      <td>UO_0000065</td>\n",
              "      <td>None</td>\n",
              "      <td>62.0</td>\n",
              "    </tr>\n",
              "    <tr>\n",
              "      <th>1</th>\n",
              "      <td>None</td>\n",
              "      <td>307822</td>\n",
              "      <td>[]</td>\n",
              "      <td>CHEMBL695495</td>\n",
              "      <td>Cytotoxicity in non-NTR-expressing human ovari...</td>\n",
              "      <td>F</td>\n",
              "      <td>None</td>\n",
              "      <td>None</td>\n",
              "      <td>BAO_0000190</td>\n",
              "      <td>BAO_0000219</td>\n",
              "      <td>cell-based format</td>\n",
              "      <td>NC(=O)c1cc(N2CC2)c([N+](=O)[O-])cc1[N+](=O)[O-]</td>\n",
              "      <td>Outside typical range</td>\n",
              "      <td>Values for this activity type are unusually la...</td>\n",
              "      <td>CHEMBL1145792</td>\n",
              "      <td>J. Med. Chem.</td>\n",
              "      <td>2003</td>\n",
              "      <td>None</td>\n",
              "      <td>CHEMBL23330</td>\n",
              "      <td>TRETAZICAR</td>\n",
              "      <td>CHEMBL23330</td>\n",
              "      <td>None</td>\n",
              "      <td>False</td>\n",
              "      <td>http://www.openphacts.org/units/Nanomolar</td>\n",
              "      <td>146596</td>\n",
              "      <td>=</td>\n",
              "      <td>1</td>\n",
              "      <td>True</td>\n",
              "      <td>=</td>\n",
              "      <td>None</td>\n",
              "      <td>IC50</td>\n",
              "      <td>nM</td>\n",
              "      <td>None</td>\n",
              "      <td>174000.0</td>\n",
              "      <td>CHEMBL613895</td>\n",
              "      <td>Homo sapiens</td>\n",
              "      <td>Ovarian cancer cell line</td>\n",
              "      <td>9606</td>\n",
              "      <td>None</td>\n",
              "      <td>None</td>\n",
              "      <td>IC50</td>\n",
              "      <td>nM</td>\n",
              "      <td>UO_0000065</td>\n",
              "      <td>None</td>\n",
              "      <td>174000.0</td>\n",
              "    </tr>\n",
              "    <tr>\n",
              "      <th>2</th>\n",
              "      <td>None</td>\n",
              "      <td>310484</td>\n",
              "      <td>[]</td>\n",
              "      <td>CHEMBL695495</td>\n",
              "      <td>Cytotoxicity in non-NTR-expressing human ovari...</td>\n",
              "      <td>F</td>\n",
              "      <td>None</td>\n",
              "      <td>None</td>\n",
              "      <td>BAO_0000190</td>\n",
              "      <td>BAO_0000219</td>\n",
              "      <td>cell-based format</td>\n",
              "      <td>COc1cc2cc(C(=O)N3CC(CCl)c4c3cc(NC(=O)OCc3ccc([...</td>\n",
              "      <td>None</td>\n",
              "      <td>None</td>\n",
              "      <td>CHEMBL1145792</td>\n",
              "      <td>J. Med. Chem.</td>\n",
              "      <td>2003</td>\n",
              "      <td>None</td>\n",
              "      <td>CHEMBL311087</td>\n",
              "      <td>None</td>\n",
              "      <td>CHEMBL311087</td>\n",
              "      <td>6.84</td>\n",
              "      <td>False</td>\n",
              "      <td>http://www.openphacts.org/units/Nanomolar</td>\n",
              "      <td>146604</td>\n",
              "      <td>=</td>\n",
              "      <td>1</td>\n",
              "      <td>True</td>\n",
              "      <td>=</td>\n",
              "      <td>None</td>\n",
              "      <td>IC50</td>\n",
              "      <td>nM</td>\n",
              "      <td>None</td>\n",
              "      <td>145.0</td>\n",
              "      <td>CHEMBL613895</td>\n",
              "      <td>Homo sapiens</td>\n",
              "      <td>Ovarian cancer cell line</td>\n",
              "      <td>9606</td>\n",
              "      <td>None</td>\n",
              "      <td>None</td>\n",
              "      <td>IC50</td>\n",
              "      <td>nM</td>\n",
              "      <td>UO_0000065</td>\n",
              "      <td>None</td>\n",
              "      <td>145.0</td>\n",
              "    </tr>\n",
              "    <tr>\n",
              "      <th>3</th>\n",
              "      <td>None</td>\n",
              "      <td>315699</td>\n",
              "      <td>[]</td>\n",
              "      <td>CHEMBL695495</td>\n",
              "      <td>Cytotoxicity in non-NTR-expressing human ovari...</td>\n",
              "      <td>F</td>\n",
              "      <td>None</td>\n",
              "      <td>None</td>\n",
              "      <td>BAO_0000190</td>\n",
              "      <td>BAO_0000219</td>\n",
              "      <td>cell-based format</td>\n",
              "      <td>CNc1cc2c(c3ccccc13)C(CCl)CN2C(=O)c1cc2cc(OC)c(...</td>\n",
              "      <td>None</td>\n",
              "      <td>None</td>\n",
              "      <td>CHEMBL1145792</td>\n",
              "      <td>J. Med. Chem.</td>\n",
              "      <td>2003</td>\n",
              "      <td>None</td>\n",
              "      <td>CHEMBL288377</td>\n",
              "      <td>None</td>\n",
              "      <td>CHEMBL288377</td>\n",
              "      <td>9.70</td>\n",
              "      <td>False</td>\n",
              "      <td>http://www.openphacts.org/units/Nanomolar</td>\n",
              "      <td>146606</td>\n",
              "      <td>=</td>\n",
              "      <td>1</td>\n",
              "      <td>True</td>\n",
              "      <td>=</td>\n",
              "      <td>None</td>\n",
              "      <td>IC50</td>\n",
              "      <td>nM</td>\n",
              "      <td>None</td>\n",
              "      <td>0.2</td>\n",
              "      <td>CHEMBL613895</td>\n",
              "      <td>Homo sapiens</td>\n",
              "      <td>Ovarian cancer cell line</td>\n",
              "      <td>9606</td>\n",
              "      <td>None</td>\n",
              "      <td>None</td>\n",
              "      <td>IC50</td>\n",
              "      <td>nM</td>\n",
              "      <td>UO_0000065</td>\n",
              "      <td>None</td>\n",
              "      <td>0.2</td>\n",
              "    </tr>\n",
              "    <tr>\n",
              "      <th>4</th>\n",
              "      <td>None</td>\n",
              "      <td>315708</td>\n",
              "      <td>[]</td>\n",
              "      <td>CHEMBL695495</td>\n",
              "      <td>Cytotoxicity in non-NTR-expressing human ovari...</td>\n",
              "      <td>F</td>\n",
              "      <td>None</td>\n",
              "      <td>None</td>\n",
              "      <td>BAO_0000190</td>\n",
              "      <td>BAO_0000219</td>\n",
              "      <td>cell-based format</td>\n",
              "      <td>COc1cc2cc(C(=O)N3CC(CCl)c4c3cc(NC(=O)OCc3ccc([...</td>\n",
              "      <td>None</td>\n",
              "      <td>None</td>\n",
              "      <td>CHEMBL1145792</td>\n",
              "      <td>J. Med. Chem.</td>\n",
              "      <td>2003</td>\n",
              "      <td>None</td>\n",
              "      <td>CHEMBL78019</td>\n",
              "      <td>None</td>\n",
              "      <td>CHEMBL78019</td>\n",
              "      <td>6.65</td>\n",
              "      <td>False</td>\n",
              "      <td>http://www.openphacts.org/units/Nanomolar</td>\n",
              "      <td>146605</td>\n",
              "      <td>=</td>\n",
              "      <td>1</td>\n",
              "      <td>True</td>\n",
              "      <td>=</td>\n",
              "      <td>None</td>\n",
              "      <td>IC50</td>\n",
              "      <td>nM</td>\n",
              "      <td>None</td>\n",
              "      <td>224.0</td>\n",
              "      <td>CHEMBL613895</td>\n",
              "      <td>Homo sapiens</td>\n",
              "      <td>Ovarian cancer cell line</td>\n",
              "      <td>9606</td>\n",
              "      <td>None</td>\n",
              "      <td>None</td>\n",
              "      <td>IC50</td>\n",
              "      <td>nM</td>\n",
              "      <td>UO_0000065</td>\n",
              "      <td>None</td>\n",
              "      <td>224.0</td>\n",
              "    </tr>\n",
              "  </tbody>\n",
              "</table>\n",
              "</div>"
            ],
            "text/plain": [
              "  activity_comment  activity_id  ... upper_value     value\n",
              "0             None       305216  ...        None      62.0\n",
              "1             None       307822  ...        None  174000.0\n",
              "2             None       310484  ...        None     145.0\n",
              "3             None       315699  ...        None       0.2\n",
              "4             None       315708  ...        None     224.0\n",
              "\n",
              "[5 rows x 45 columns]"
            ]
          },
          "metadata": {},
          "execution_count": 60
        }
      ]
    },
    {
      "cell_type": "code",
      "metadata": {
        "id": "oNtBv36dYhxy",
        "colab": {
          "base_uri": "https://localhost:8080/"
        },
        "outputId": "28c372e7-68f4-4893-dcf7-433be5ee30e1"
      },
      "source": [
        "df.standard_type.unique()"
      ],
      "execution_count": 61,
      "outputs": [
        {
          "output_type": "execute_result",
          "data": {
            "text/plain": [
              "array(['IC50'], dtype=object)"
            ]
          },
          "metadata": {},
          "execution_count": 61
        }
      ]
    },
    {
      "cell_type": "markdown",
      "metadata": {
        "id": "fQ78N26Fg15T"
      },
      "source": [
        "Finally we will save the resulting bioactivity data to a CSV file **bioactivity_data.csv**."
      ]
    },
    {
      "cell_type": "code",
      "metadata": {
        "id": "ZvUUEIVxTOH1"
      },
      "source": [
        "df.to_csv('bioactivity_data.csv', index=False)"
      ],
      "execution_count": 62,
      "outputs": []
    },
    {
      "cell_type": "markdown",
      "metadata": {
        "id": "BOrSrTGjOWU7"
      },
      "source": [
        "## **Copying files to Google Drive**"
      ]
    },
    {
      "cell_type": "markdown",
      "metadata": {
        "id": "PRputWaI7ZW7"
      },
      "source": [
        "Firstly, we need to mount the Google Drive into Colab so that we can have access to our Google adrive from within Colab."
      ]
    },
    {
      "cell_type": "code",
      "metadata": {
        "id": "6RBX658q65A5",
        "colab": {
          "base_uri": "https://localhost:8080/"
        },
        "outputId": "1c8067bf-7cb9-437d-f9a1-3d8151a0a6f2"
      },
      "source": [
        "from google.colab import drive\n",
        "drive.mount('/content/gdrive/', force_remount=True)\n"
      ],
      "execution_count": 15,
      "outputs": [
        {
          "output_type": "stream",
          "name": "stdout",
          "text": [
            "Mounted at /content/gdrive/\n"
          ]
        }
      ]
    },
    {
      "cell_type": "markdown",
      "metadata": {
        "id": "CMlY0xudN1mL"
      },
      "source": [
        "Next, we create a **data** folder in our **Colab Notebooks** folder on Google Drive."
      ]
    },
    {
      "cell_type": "code",
      "metadata": {
        "id": "tew-UtUWIS__"
      },
      "source": [
        "! mkdir \"/content/gdrive/My Drive/Colab Notebooks/data\""
      ],
      "execution_count": 16,
      "outputs": []
    },
    {
      "cell_type": "code",
      "metadata": {
        "id": "YDMBpK2XJ_rJ"
      },
      "source": [
        "! cp bioactivity_data.csv \"/content/gdrive/My Drive/Colab Notebooks/data\""
      ],
      "execution_count": 17,
      "outputs": []
    },
    {
      "cell_type": "code",
      "metadata": {
        "id": "iRIr1QiEJtuw",
        "colab": {
          "base_uri": "https://localhost:8080/"
        },
        "outputId": "14b05c6c-72ca-4f4e-c2ce-882c86ee8e72"
      },
      "source": [
        "! ls -l \"/content/gdrive/My Drive/Colab Notebooks/data\""
      ],
      "execution_count": 63,
      "outputs": [
        {
          "output_type": "stream",
          "name": "stdout",
          "text": [
            "total 16\n",
            "-rw------- 1 root root 15903 Oct 21 19:50 bioactivity_data.csv\n"
          ]
        }
      ]
    },
    {
      "cell_type": "markdown",
      "metadata": {
        "id": "z9NwrYJni8CH"
      },
      "source": [
        "Let's see the CSV files that we have so far."
      ]
    },
    {
      "cell_type": "code",
      "metadata": {
        "id": "FO3cZC5vnCht",
        "colab": {
          "base_uri": "https://localhost:8080/"
        },
        "outputId": "d4d236ab-3c5c-4e89-a3cb-0d850a5a80fb"
      },
      "source": [
        "! ls"
      ],
      "execution_count": 64,
      "outputs": [
        {
          "output_type": "stream",
          "name": "stdout",
          "text": [
            "bioactivity_data.csv  gdrive  sample_data\n"
          ]
        }
      ]
    },
    {
      "cell_type": "markdown",
      "metadata": {
        "id": "7UAasSu5jAeB"
      },
      "source": [
        "Taking a glimpse of the **bioactivity_data.csv** file that we've just created."
      ]
    },
    {
      "cell_type": "code",
      "metadata": {
        "id": "jwEJjx5b5gAn",
        "colab": {
          "base_uri": "https://localhost:8080/"
        },
        "outputId": "8f15812a-5bde-41c8-aa35-7d4a945f501d"
      },
      "source": [
        "! head bioactivity_data.csv"
      ],
      "execution_count": 65,
      "outputs": [
        {
          "output_type": "stream",
          "name": "stdout",
          "text": [
            "activity_comment,activity_id,activity_properties,assay_chembl_id,assay_description,assay_type,assay_variant_accession,assay_variant_mutation,bao_endpoint,bao_format,bao_label,canonical_smiles,data_validity_comment,data_validity_description,document_chembl_id,document_journal,document_year,ligand_efficiency,molecule_chembl_id,molecule_pref_name,parent_molecule_chembl_id,pchembl_value,potential_duplicate,qudt_units,record_id,relation,src_id,standard_flag,standard_relation,standard_text_value,standard_type,standard_units,standard_upper_value,standard_value,target_chembl_id,target_organism,target_pref_name,target_tax_id,text_value,toid,type,units,uo_units,upper_value,value\n",
            ",305216,[],CHEMBL695495,Cytotoxicity in non-NTR-expressing human ovarian carcinoma cell line (SKOV).,F,,,BAO_0000190,BAO_0000219,cell-based format,COc1cc2cc(C(=O)N3CC(CCl)c4c3cc(NC(=O)OCc3ccc([N+](=O)[O-])cc3)c3ccccc43)[nH]c2c(OC)c1OC,,,CHEMBL1145792,J. Med. Chem.,2003,,CHEMBL84463,,CHEMBL84463,7.21,False,http://www.openphacts.org/units/Nanomolar,146608,=,1,True,=,,IC50,nM,,62.0,CHEMBL613895,Homo sapiens,Ovarian cancer cell line,9606,,,IC50,nM,UO_0000065,,62.0\n",
            ",307822,[],CHEMBL695495,Cytotoxicity in non-NTR-expressing human ovarian carcinoma cell line (SKOV).,F,,,BAO_0000190,BAO_0000219,cell-based format,NC(=O)c1cc(N2CC2)c([N+](=O)[O-])cc1[N+](=O)[O-],Outside typical range,\"Values for this activity type are unusually large/small, so may not be accurate\",CHEMBL1145792,J. Med. Chem.,2003,,CHEMBL23330,TRETAZICAR,CHEMBL23330,,False,http://www.openphacts.org/units/Nanomolar,146596,=,1,True,=,,IC50,nM,,174000.0,CHEMBL613895,Homo sapiens,Ovarian cancer cell line,9606,,,IC50,nM,UO_0000065,,174000.0\n",
            ",310484,[],CHEMBL695495,Cytotoxicity in non-NTR-expressing human ovarian carcinoma cell line (SKOV).,F,,,BAO_0000190,BAO_0000219,cell-based format,COc1cc2cc(C(=O)N3CC(CCl)c4c3cc(NC(=O)OCc3ccc([N+](=O)[O-])cc3OCCCO)c3ccccc43)[nH]c2c(OC)c1OC,,,CHEMBL1145792,J. Med. Chem.,2003,,CHEMBL311087,,CHEMBL311087,6.84,False,http://www.openphacts.org/units/Nanomolar,146604,=,1,True,=,,IC50,nM,,145.0,CHEMBL613895,Homo sapiens,Ovarian cancer cell line,9606,,,IC50,nM,UO_0000065,,145.0\n",
            ",315699,[],CHEMBL695495,Cytotoxicity in non-NTR-expressing human ovarian carcinoma cell line (SKOV).,F,,,BAO_0000190,BAO_0000219,cell-based format,CNc1cc2c(c3ccccc13)C(CCl)CN2C(=O)c1cc2cc(OC)c(OC)c(OC)c2[nH]1,,,CHEMBL1145792,J. Med. Chem.,2003,,CHEMBL288377,,CHEMBL288377,9.70,False,http://www.openphacts.org/units/Nanomolar,146606,=,1,True,=,,IC50,nM,,0.2,CHEMBL613895,Homo sapiens,Ovarian cancer cell line,9606,,,IC50,nM,UO_0000065,,0.2\n",
            ",315708,[],CHEMBL695495,Cytotoxicity in non-NTR-expressing human ovarian carcinoma cell line (SKOV).,F,,,BAO_0000190,BAO_0000219,cell-based format,COc1cc2cc(C(=O)N3CC(CCl)c4c3cc(NC(=O)OCc3ccc([N+](=O)[O-])cc3OCCO)c3ccccc43)[nH]c2c(OC)c1OC,,,CHEMBL1145792,J. Med. Chem.,2003,,CHEMBL78019,,CHEMBL78019,6.65,False,http://www.openphacts.org/units/Nanomolar,146605,=,1,True,=,,IC50,nM,,224.0,CHEMBL613895,Homo sapiens,Ovarian cancer cell line,9606,,,IC50,nM,UO_0000065,,224.0\n",
            ",321835,[],CHEMBL695495,Cytotoxicity in non-NTR-expressing human ovarian carcinoma cell line (SKOV).,F,,,BAO_0000190,BAO_0000219,cell-based format,COc1cc2cc(C(=O)N3CC(CCl)c4c3cc(NC(=O)OCc3ccc([N+](=O)[O-])cc3OCC(O)CO)c3ccccc43)[nH]c2c(OC)c1OC,,,CHEMBL1145792,J. Med. Chem.,2003,,CHEMBL314246,,CHEMBL314246,6.94,False,http://www.openphacts.org/units/Nanomolar,146603,=,1,True,=,,IC50,nM,,114.0,CHEMBL613895,Homo sapiens,Ovarian cancer cell line,9606,,,IC50,nM,UO_0000065,,114.0\n",
            ",326760,[],CHEMBL695495,Cytotoxicity in non-NTR-expressing human ovarian carcinoma cell line (SKOV).,F,,,BAO_0000190,BAO_0000219,cell-based format,COc1cc([N+](=O)[O-])ccc1COC(=O)Nc1cc2c(c3ccccc13)C(CCl)CN2C(=O)c1cc2cc(OC)c(OC)c(OC)c2[nH]1,,,CHEMBL1145792,J. Med. Chem.,2003,,CHEMBL316382,,CHEMBL316382,7.23,False,http://www.openphacts.org/units/Nanomolar,146610,=,1,True,=,,IC50,nM,,59.0,CHEMBL613895,Homo sapiens,Ovarian cancer cell line,9606,,,IC50,nM,UO_0000065,,59.0\n",
            ",328217,[],CHEMBL695495,Cytotoxicity in non-NTR-expressing human ovarian carcinoma cell line (SKOV).,F,,,BAO_0000190,BAO_0000219,cell-based format,COCCOc1cc([N+](=O)[O-])ccc1COC(=O)Nc1cc2c(c3ccccc13)C(CCl)CN2C(=O)c1cc2cc(OC)c(OC)c(OC)c2[nH]1,,,CHEMBL1145792,J. Med. Chem.,2003,,CHEMBL314247,,CHEMBL314247,6.97,False,http://www.openphacts.org/units/Nanomolar,146609,=,1,True,=,,IC50,nM,,106.0,CHEMBL613895,Homo sapiens,Ovarian cancer cell line,9606,,,IC50,nM,UO_0000065,,106.0\n",
            ",328227,[],CHEMBL695495,Cytotoxicity in non-NTR-expressing human ovarian carcinoma cell line (SKOV).,F,,,BAO_0000190,BAO_0000219,cell-based format,COc1cc2cc(C(=O)N3CC(CCl)c4c3cc(NC(=O)OCc3ccc([N+](=O)[O-])cc3OCCCN(C)C)c3ccccc43)[nH]c2c(OC)c1OC,,,CHEMBL1145792,J. Med. Chem.,2003,,CHEMBL79354,,CHEMBL79354,6.72,False,http://www.openphacts.org/units/Nanomolar,146602,=,1,True,=,,IC50,nM,,189.0,CHEMBL613895,Homo sapiens,Ovarian cancer cell line,9606,,,IC50,nM,UO_0000065,,189.0\n"
          ]
        }
      ]
    },
    {
      "cell_type": "markdown",
      "metadata": {
        "id": "_GXMpFNUOn_8"
      },
      "source": [
        "## **Handling missing data**\n",
        "If any compounds has missing value for the **standard_value** column then drop it"
      ]
    },
    {
      "cell_type": "code",
      "metadata": {
        "id": "hkVOdk6ZR396",
        "colab": {
          "base_uri": "https://localhost:8080/",
          "height": 268
        },
        "outputId": "f6736fd5-6eb7-432c-887a-3c0a01fcef0f"
      },
      "source": [
        "df2 = df[df.standard_value.notna()]\n",
        "df2[:3]"
      ],
      "execution_count": 72,
      "outputs": [
        {
          "output_type": "execute_result",
          "data": {
            "text/html": [
              "<div>\n",
              "<style scoped>\n",
              "    .dataframe tbody tr th:only-of-type {\n",
              "        vertical-align: middle;\n",
              "    }\n",
              "\n",
              "    .dataframe tbody tr th {\n",
              "        vertical-align: top;\n",
              "    }\n",
              "\n",
              "    .dataframe thead th {\n",
              "        text-align: right;\n",
              "    }\n",
              "</style>\n",
              "<table border=\"1\" class=\"dataframe\">\n",
              "  <thead>\n",
              "    <tr style=\"text-align: right;\">\n",
              "      <th></th>\n",
              "      <th>activity_comment</th>\n",
              "      <th>activity_id</th>\n",
              "      <th>activity_properties</th>\n",
              "      <th>assay_chembl_id</th>\n",
              "      <th>assay_description</th>\n",
              "      <th>assay_type</th>\n",
              "      <th>assay_variant_accession</th>\n",
              "      <th>assay_variant_mutation</th>\n",
              "      <th>bao_endpoint</th>\n",
              "      <th>bao_format</th>\n",
              "      <th>bao_label</th>\n",
              "      <th>canonical_smiles</th>\n",
              "      <th>data_validity_comment</th>\n",
              "      <th>data_validity_description</th>\n",
              "      <th>document_chembl_id</th>\n",
              "      <th>document_journal</th>\n",
              "      <th>document_year</th>\n",
              "      <th>ligand_efficiency</th>\n",
              "      <th>molecule_chembl_id</th>\n",
              "      <th>molecule_pref_name</th>\n",
              "      <th>parent_molecule_chembl_id</th>\n",
              "      <th>pchembl_value</th>\n",
              "      <th>potential_duplicate</th>\n",
              "      <th>qudt_units</th>\n",
              "      <th>record_id</th>\n",
              "      <th>relation</th>\n",
              "      <th>src_id</th>\n",
              "      <th>standard_flag</th>\n",
              "      <th>standard_relation</th>\n",
              "      <th>standard_text_value</th>\n",
              "      <th>standard_type</th>\n",
              "      <th>standard_units</th>\n",
              "      <th>standard_upper_value</th>\n",
              "      <th>standard_value</th>\n",
              "      <th>target_chembl_id</th>\n",
              "      <th>target_organism</th>\n",
              "      <th>target_pref_name</th>\n",
              "      <th>target_tax_id</th>\n",
              "      <th>text_value</th>\n",
              "      <th>toid</th>\n",
              "      <th>type</th>\n",
              "      <th>units</th>\n",
              "      <th>uo_units</th>\n",
              "      <th>upper_value</th>\n",
              "      <th>value</th>\n",
              "    </tr>\n",
              "  </thead>\n",
              "  <tbody>\n",
              "    <tr>\n",
              "      <th>0</th>\n",
              "      <td>None</td>\n",
              "      <td>305216</td>\n",
              "      <td>[]</td>\n",
              "      <td>CHEMBL695495</td>\n",
              "      <td>Cytotoxicity in non-NTR-expressing human ovari...</td>\n",
              "      <td>F</td>\n",
              "      <td>None</td>\n",
              "      <td>None</td>\n",
              "      <td>BAO_0000190</td>\n",
              "      <td>BAO_0000219</td>\n",
              "      <td>cell-based format</td>\n",
              "      <td>COc1cc2cc(C(=O)N3CC(CCl)c4c3cc(NC(=O)OCc3ccc([...</td>\n",
              "      <td>None</td>\n",
              "      <td>None</td>\n",
              "      <td>CHEMBL1145792</td>\n",
              "      <td>J. Med. Chem.</td>\n",
              "      <td>2003</td>\n",
              "      <td>None</td>\n",
              "      <td>CHEMBL84463</td>\n",
              "      <td>None</td>\n",
              "      <td>CHEMBL84463</td>\n",
              "      <td>7.21</td>\n",
              "      <td>False</td>\n",
              "      <td>http://www.openphacts.org/units/Nanomolar</td>\n",
              "      <td>146608</td>\n",
              "      <td>=</td>\n",
              "      <td>1</td>\n",
              "      <td>True</td>\n",
              "      <td>=</td>\n",
              "      <td>None</td>\n",
              "      <td>IC50</td>\n",
              "      <td>nM</td>\n",
              "      <td>None</td>\n",
              "      <td>62.0</td>\n",
              "      <td>CHEMBL613895</td>\n",
              "      <td>Homo sapiens</td>\n",
              "      <td>Ovarian cancer cell line</td>\n",
              "      <td>9606</td>\n",
              "      <td>None</td>\n",
              "      <td>None</td>\n",
              "      <td>IC50</td>\n",
              "      <td>nM</td>\n",
              "      <td>UO_0000065</td>\n",
              "      <td>None</td>\n",
              "      <td>62.0</td>\n",
              "    </tr>\n",
              "    <tr>\n",
              "      <th>1</th>\n",
              "      <td>None</td>\n",
              "      <td>307822</td>\n",
              "      <td>[]</td>\n",
              "      <td>CHEMBL695495</td>\n",
              "      <td>Cytotoxicity in non-NTR-expressing human ovari...</td>\n",
              "      <td>F</td>\n",
              "      <td>None</td>\n",
              "      <td>None</td>\n",
              "      <td>BAO_0000190</td>\n",
              "      <td>BAO_0000219</td>\n",
              "      <td>cell-based format</td>\n",
              "      <td>NC(=O)c1cc(N2CC2)c([N+](=O)[O-])cc1[N+](=O)[O-]</td>\n",
              "      <td>Outside typical range</td>\n",
              "      <td>Values for this activity type are unusually la...</td>\n",
              "      <td>CHEMBL1145792</td>\n",
              "      <td>J. Med. Chem.</td>\n",
              "      <td>2003</td>\n",
              "      <td>None</td>\n",
              "      <td>CHEMBL23330</td>\n",
              "      <td>TRETAZICAR</td>\n",
              "      <td>CHEMBL23330</td>\n",
              "      <td>None</td>\n",
              "      <td>False</td>\n",
              "      <td>http://www.openphacts.org/units/Nanomolar</td>\n",
              "      <td>146596</td>\n",
              "      <td>=</td>\n",
              "      <td>1</td>\n",
              "      <td>True</td>\n",
              "      <td>=</td>\n",
              "      <td>None</td>\n",
              "      <td>IC50</td>\n",
              "      <td>nM</td>\n",
              "      <td>None</td>\n",
              "      <td>174000.0</td>\n",
              "      <td>CHEMBL613895</td>\n",
              "      <td>Homo sapiens</td>\n",
              "      <td>Ovarian cancer cell line</td>\n",
              "      <td>9606</td>\n",
              "      <td>None</td>\n",
              "      <td>None</td>\n",
              "      <td>IC50</td>\n",
              "      <td>nM</td>\n",
              "      <td>UO_0000065</td>\n",
              "      <td>None</td>\n",
              "      <td>174000.0</td>\n",
              "    </tr>\n",
              "    <tr>\n",
              "      <th>2</th>\n",
              "      <td>None</td>\n",
              "      <td>310484</td>\n",
              "      <td>[]</td>\n",
              "      <td>CHEMBL695495</td>\n",
              "      <td>Cytotoxicity in non-NTR-expressing human ovari...</td>\n",
              "      <td>F</td>\n",
              "      <td>None</td>\n",
              "      <td>None</td>\n",
              "      <td>BAO_0000190</td>\n",
              "      <td>BAO_0000219</td>\n",
              "      <td>cell-based format</td>\n",
              "      <td>COc1cc2cc(C(=O)N3CC(CCl)c4c3cc(NC(=O)OCc3ccc([...</td>\n",
              "      <td>None</td>\n",
              "      <td>None</td>\n",
              "      <td>CHEMBL1145792</td>\n",
              "      <td>J. Med. Chem.</td>\n",
              "      <td>2003</td>\n",
              "      <td>None</td>\n",
              "      <td>CHEMBL311087</td>\n",
              "      <td>None</td>\n",
              "      <td>CHEMBL311087</td>\n",
              "      <td>6.84</td>\n",
              "      <td>False</td>\n",
              "      <td>http://www.openphacts.org/units/Nanomolar</td>\n",
              "      <td>146604</td>\n",
              "      <td>=</td>\n",
              "      <td>1</td>\n",
              "      <td>True</td>\n",
              "      <td>=</td>\n",
              "      <td>None</td>\n",
              "      <td>IC50</td>\n",
              "      <td>nM</td>\n",
              "      <td>None</td>\n",
              "      <td>145.0</td>\n",
              "      <td>CHEMBL613895</td>\n",
              "      <td>Homo sapiens</td>\n",
              "      <td>Ovarian cancer cell line</td>\n",
              "      <td>9606</td>\n",
              "      <td>None</td>\n",
              "      <td>None</td>\n",
              "      <td>IC50</td>\n",
              "      <td>nM</td>\n",
              "      <td>UO_0000065</td>\n",
              "      <td>None</td>\n",
              "      <td>145.0</td>\n",
              "    </tr>\n",
              "  </tbody>\n",
              "</table>\n",
              "</div>"
            ],
            "text/plain": [
              "  activity_comment  activity_id  ... upper_value     value\n",
              "0             None       305216  ...        None      62.0\n",
              "1             None       307822  ...        None  174000.0\n",
              "2             None       310484  ...        None     145.0\n",
              "\n",
              "[3 rows x 45 columns]"
            ]
          },
          "metadata": {},
          "execution_count": 72
        }
      ]
    },
    {
      "cell_type": "markdown",
      "metadata": {
        "id": "6JtZti-De1tg"
      },
      "source": [
        "### Print the number of data entries "
      ]
    },
    {
      "cell_type": "code",
      "metadata": {
        "colab": {
          "base_uri": "https://localhost:8080/"
        },
        "id": "QjCRvzm5eckB",
        "outputId": "a44bd2c3-a7e3-4a09-e71c-1a62cd58e1f6"
      },
      "source": [
        "print(\"Total number of data entries : \", len(df))\n",
        "print(\"Toal number entries with no missing data : \",len(df2))"
      ],
      "execution_count": 69,
      "outputs": [
        {
          "output_type": "stream",
          "name": "stdout",
          "text": [
            "Total number of data entries :  33\n",
            "Toal number entries with no missing data :  30\n"
          ]
        }
      ]
    },
    {
      "cell_type": "markdown",
      "metadata": {
        "id": "Y-qNsUlmjS25"
      },
      "source": [
        "Apparently, for this dataset there are three(3) entries with missing data. We can just ignore them and use the full 30 entries"
      ]
    },
    {
      "cell_type": "code",
      "metadata": {
        "id": "yNsFvnlHfq8x"
      },
      "source": [
        "x = df2[\"value\"].to_numpy()\n",
        "x2 = [float(x[i]) for i in range(len(x))]\n",
        "np.expand_dims(x2,1);"
      ],
      "execution_count": 94,
      "outputs": []
    },
    {
      "cell_type": "markdown",
      "metadata": {
        "id": "onu7pfrPjuKl"
      },
      "source": [
        "### Vizualising the values"
      ]
    },
    {
      "cell_type": "code",
      "metadata": {
        "colab": {
          "base_uri": "https://localhost:8080/",
          "height": 352
        },
        "id": "N4godLFbgRuH",
        "outputId": "eedcf1c8-8799-4869-81be-996fc3331bb9"
      },
      "source": [
        "plt.hist(x2)"
      ],
      "execution_count": 95,
      "outputs": [
        {
          "output_type": "execute_result",
          "data": {
            "text/plain": [
              "(array([28.,  0.,  0.,  1.,  0.,  0.,  0.,  0.,  0.,  1.]),\n",
              " array([1.00000000e-02, 1.74000090e+04, 3.48000080e+04, 5.22000070e+04,\n",
              "        6.96000060e+04, 8.70000050e+04, 1.04400004e+05, 1.21800003e+05,\n",
              "        1.39200002e+05, 1.56600001e+05, 1.74000000e+05]),\n",
              " <a list of 10 Patch objects>)"
            ]
          },
          "metadata": {},
          "execution_count": 95
        },
        {
          "output_type": "display_data",
          "data": {
            "image/png": "[encoded data removed]",
            "text/plain": [
              "<Figure size 432x288 with 1 Axes>"
            ]
          },
          "metadata": {
            "needs_background": "light"
          }
        }
      ]
    },
    {
      "cell_type": "markdown",
      "metadata": {
        "id": "JDQrWdJljy82"
      },
      "source": [
        "It can be seen that a great majority of entries have values less than 25000 while only a few(about 2 or 3) have large values."
      ]
    },
    {
      "cell_type": "markdown",
      "metadata": {
        "id": "5H4sSFAWhV9B"
      },
      "source": [
        "## **Data pre-processing of the bioactivity data**"
      ]
    },
    {
      "cell_type": "markdown",
      "metadata": {
        "id": "tO22XVlzhkXR"
      },
      "source": [
        "### **Labeling compounds as either being active, inactive or intermediate**\n",
        "The bioactivity data is in the IC50 unit. Compounds having values of less than 1000 nM will be considered to be **active** while those greater than 10,000 nM will be considered to be **inactive**. As for those values in between 1,000 and 10,000 nM will be referred to as **intermediate**. "
      ]
    },
    {
      "cell_type": "code",
      "metadata": {
        "id": "1E8rz7oMOd-5"
      },
      "source": [
        "bioactivity_class = []\n",
        "for i in df2.standard_value:\n",
        "  if float(i) >= 10000:\n",
        "    bioactivity_class.append(\"inactive\")\n",
        "  elif float(i) <= 1000:\n",
        "    bioactivity_class.append(\"active\")\n",
        "  else:\n",
        "    bioactivity_class.append(\"intermediate\")"
      ],
      "execution_count": 96,
      "outputs": []
    },
    {
      "cell_type": "markdown",
      "metadata": {
        "id": "PFsmb2N9hnTB"
      },
      "source": [
        "### **Iterate the *molecule_chembl_id* to a list**"
      ]
    },
    {
      "cell_type": "code",
      "metadata": {
        "id": "DMJng9xnVnMM"
      },
      "source": [
        "mol_cid = []\n",
        "for i in df2.molecule_chembl_id:\n",
        "  mol_cid.append(i)"
      ],
      "execution_count": 84,
      "outputs": []
    },
    {
      "cell_type": "markdown",
      "metadata": {
        "id": "YRieJc9dhuVZ"
      },
      "source": [
        "### **Iterate *canonical_smiles* to a list**"
      ]
    },
    {
      "cell_type": "code",
      "metadata": {
        "id": "AT8qUBk1eVmj"
      },
      "source": [
        "canonical_smiles = []\n",
        "for i in df2.canonical_smiles:\n",
        "  canonical_smiles.append(i)"
      ],
      "execution_count": 97,
      "outputs": []
    },
    {
      "cell_type": "markdown",
      "metadata": {
        "id": "DZFugUXxhwjE"
      },
      "source": [
        "### **Iterate *standard_value* to a list**"
      ]
    },
    {
      "cell_type": "code",
      "metadata": {
        "id": "ZaPt-FjEZNBe"
      },
      "source": [
        "standard_value = []\n",
        "for i in df2.standard_value:\n",
        "  standard_value.append(i)"
      ],
      "execution_count": 98,
      "outputs": []
    },
    {
      "cell_type": "markdown",
      "metadata": {
        "id": "Nv2dzid_hzKd"
      },
      "source": [
        "### **Combine the 4 lists into a dataframe**"
      ]
    },
    {
      "cell_type": "code",
      "metadata": {
        "id": "TWlYO4I3Wrh-"
      },
      "source": [
        "data_tuples = list(zip(mol_cid, canonical_smiles, bioactivity_class, standard_value))\n",
        "df3 = pd.DataFrame( data_tuples,  columns=['molecule_chembl_id', 'canonical_smiles', 'bioactivity_class', 'standard_value'])"
      ],
      "execution_count": 99,
      "outputs": []
    },
    {
      "cell_type": "code",
      "metadata": {
        "id": "Li64nUiZQ-y2",
        "colab": {
          "base_uri": "https://localhost:8080/",
          "height": 990
        },
        "outputId": "21d7e919-c232-4151-f0d3-c0a2c05de334"
      },
      "source": [
        "df3"
      ],
      "execution_count": 100,
      "outputs": [
        {
          "output_type": "execute_result",
          "data": {
            "text/html": [
              "<div>\n",
              "<style scoped>\n",
              "    .dataframe tbody tr th:only-of-type {\n",
              "        vertical-align: middle;\n",
              "    }\n",
              "\n",
              "    .dataframe tbody tr th {\n",
              "        vertical-align: top;\n",
              "    }\n",
              "\n",
              "    .dataframe thead th {\n",
              "        text-align: right;\n",
              "    }\n",
              "</style>\n",
              "<table border=\"1\" class=\"dataframe\">\n",
              "  <thead>\n",
              "    <tr style=\"text-align: right;\">\n",
              "      <th></th>\n",
              "      <th>molecule_chembl_id</th>\n",
              "      <th>canonical_smiles</th>\n",
              "      <th>bioactivity_class</th>\n",
              "      <th>standard_value</th>\n",
              "    </tr>\n",
              "  </thead>\n",
              "  <tbody>\n",
              "    <tr>\n",
              "      <th>0</th>\n",
              "      <td>CHEMBL84463</td>\n",
              "      <td>COc1cc2cc(C(=O)N3CC(CCl)c4c3cc(NC(=O)OCc3ccc([...</td>\n",
              "      <td>active</td>\n",
              "      <td>62.0</td>\n",
              "    </tr>\n",
              "    <tr>\n",
              "      <th>1</th>\n",
              "      <td>CHEMBL23330</td>\n",
              "      <td>NC(=O)c1cc(N2CC2)c([N+](=O)[O-])cc1[N+](=O)[O-]</td>\n",
              "      <td>inactive</td>\n",
              "      <td>174000.0</td>\n",
              "    </tr>\n",
              "    <tr>\n",
              "      <th>2</th>\n",
              "      <td>CHEMBL311087</td>\n",
              "      <td>COc1cc2cc(C(=O)N3CC(CCl)c4c3cc(NC(=O)OCc3ccc([...</td>\n",
              "      <td>active</td>\n",
              "      <td>145.0</td>\n",
              "    </tr>\n",
              "    <tr>\n",
              "      <th>3</th>\n",
              "      <td>CHEMBL288377</td>\n",
              "      <td>CNc1cc2c(c3ccccc13)C(CCl)CN2C(=O)c1cc2cc(OC)c(...</td>\n",
              "      <td>active</td>\n",
              "      <td>0.2</td>\n",
              "    </tr>\n",
              "    <tr>\n",
              "      <th>4</th>\n",
              "      <td>CHEMBL78019</td>\n",
              "      <td>COc1cc2cc(C(=O)N3CC(CCl)c4c3cc(NC(=O)OCc3ccc([...</td>\n",
              "      <td>active</td>\n",
              "      <td>224.0</td>\n",
              "    </tr>\n",
              "    <tr>\n",
              "      <th>5</th>\n",
              "      <td>CHEMBL314246</td>\n",
              "      <td>COc1cc2cc(C(=O)N3CC(CCl)c4c3cc(NC(=O)OCc3ccc([...</td>\n",
              "      <td>active</td>\n",
              "      <td>114.0</td>\n",
              "    </tr>\n",
              "    <tr>\n",
              "      <th>6</th>\n",
              "      <td>CHEMBL316382</td>\n",
              "      <td>COc1cc([N+](=O)[O-])ccc1COC(=O)Nc1cc2c(c3ccccc...</td>\n",
              "      <td>active</td>\n",
              "      <td>59.0</td>\n",
              "    </tr>\n",
              "    <tr>\n",
              "      <th>7</th>\n",
              "      <td>CHEMBL314247</td>\n",
              "      <td>COCCOc1cc([N+](=O)[O-])ccc1COC(=O)Nc1cc2c(c3cc...</td>\n",
              "      <td>active</td>\n",
              "      <td>106.0</td>\n",
              "    </tr>\n",
              "    <tr>\n",
              "      <th>8</th>\n",
              "      <td>CHEMBL79354</td>\n",
              "      <td>COc1cc2cc(C(=O)N3CC(CCl)c4c3cc(NC(=O)OCc3ccc([...</td>\n",
              "      <td>active</td>\n",
              "      <td>189.0</td>\n",
              "    </tr>\n",
              "    <tr>\n",
              "      <th>9</th>\n",
              "      <td>CHEMBL83545</td>\n",
              "      <td>COc1cc([N+](=O)[O-])ccc1COC(=O)Nc1ccc(COC(=O)N...</td>\n",
              "      <td>active</td>\n",
              "      <td>223.0</td>\n",
              "    </tr>\n",
              "    <tr>\n",
              "      <th>10</th>\n",
              "      <td>CHEMBL37705</td>\n",
              "      <td>COc1cc2cc(C(=O)N3CC(CCl)c4c3cc(N)c3ccccc43)[nH...</td>\n",
              "      <td>active</td>\n",
              "      <td>1.1</td>\n",
              "    </tr>\n",
              "    <tr>\n",
              "      <th>11</th>\n",
              "      <td>CHEMBL23612</td>\n",
              "      <td>NC(=O)c1cc(N(CCBr)CCBr)c([N+](=O)[O-])cc1[N+](...</td>\n",
              "      <td>inactive</td>\n",
              "      <td>58000.0</td>\n",
              "    </tr>\n",
              "    <tr>\n",
              "      <th>12</th>\n",
              "      <td>CHEMBL311195</td>\n",
              "      <td>COc1cc2cc(C(=O)N3CC(CCl)c4c3cc(NC(=O)OC(C)c3cc...</td>\n",
              "      <td>active</td>\n",
              "      <td>158.0</td>\n",
              "    </tr>\n",
              "    <tr>\n",
              "      <th>13</th>\n",
              "      <td>CHEMBL314487</td>\n",
              "      <td>CN(C)CCOc1ccc2[nH]c(C(=O)N3CC(CCl)c4c3cc(N)c3c...</td>\n",
              "      <td>active</td>\n",
              "      <td>13.0</td>\n",
              "    </tr>\n",
              "    <tr>\n",
              "      <th>14</th>\n",
              "      <td>CHEMBL84381</td>\n",
              "      <td>COc1cc2cc(C(=O)N3CC(CCl)c4c3cc(NC(=O)OCc3ccc([...</td>\n",
              "      <td>active</td>\n",
              "      <td>88.0</td>\n",
              "    </tr>\n",
              "    <tr>\n",
              "      <th>15</th>\n",
              "      <td>CHEMBL313563</td>\n",
              "      <td>COc1cc2cc(C(=O)N3CC(CCl)c4c3cc(N(C)C(=O)OCc3cc...</td>\n",
              "      <td>active</td>\n",
              "      <td>152.0</td>\n",
              "    </tr>\n",
              "    <tr>\n",
              "      <th>16</th>\n",
              "      <td>CHEMBL311598</td>\n",
              "      <td>CN(C)CCOc1ccc2[nH]c(C(=O)N3CC(CCl)c4c3cc(NC(=O...</td>\n",
              "      <td>active</td>\n",
              "      <td>770.0</td>\n",
              "    </tr>\n",
              "    <tr>\n",
              "      <th>17</th>\n",
              "      <td>CHEMBL611449</td>\n",
              "      <td>None</td>\n",
              "      <td>active</td>\n",
              "      <td>10.0</td>\n",
              "    </tr>\n",
              "    <tr>\n",
              "      <th>18</th>\n",
              "      <td>CHEMBL352708</td>\n",
              "      <td>CNC(=S)N(C)CCNc1c2ccccc2nc2ccccc12</td>\n",
              "      <td>active</td>\n",
              "      <td>10.0</td>\n",
              "    </tr>\n",
              "    <tr>\n",
              "      <th>19</th>\n",
              "      <td>CHEMBL134334</td>\n",
              "      <td>COc1cc(OC)cc(-c2cc3cnc(NC(=O)C(F)(F)F)cc3nc2N)c1</td>\n",
              "      <td>inactive</td>\n",
              "      <td>17000.0</td>\n",
              "    </tr>\n",
              "    <tr>\n",
              "      <th>20</th>\n",
              "      <td>CHEMBL135074</td>\n",
              "      <td>COc1cc(OC)cc(-c2cc3cnc(NC(=O)NC(C)(C)C)cc3nc2N...</td>\n",
              "      <td>inactive</td>\n",
              "      <td>11000.0</td>\n",
              "    </tr>\n",
              "    <tr>\n",
              "      <th>21</th>\n",
              "      <td>CHEMBL299763</td>\n",
              "      <td>COc1cc(OC)cc(-c2cc3cnc(N)nc3nc2NC(=O)NC(C)(C)C)c1</td>\n",
              "      <td>inactive</td>\n",
              "      <td>15000.0</td>\n",
              "    </tr>\n",
              "    <tr>\n",
              "      <th>22</th>\n",
              "      <td>CHEMBL135889</td>\n",
              "      <td>COc1cc(OC)cc(-c2cc3cnc(NC(C)=O)cc3nc2NC(=O)NC(...</td>\n",
              "      <td>inactive</td>\n",
              "      <td>12000.0</td>\n",
              "    </tr>\n",
              "    <tr>\n",
              "      <th>23</th>\n",
              "      <td>CHEMBL422625</td>\n",
              "      <td>CCNC(=O)Nc1nc2cc(N)ncc2cc1-c1cc(OC)cc(OC)c1</td>\n",
              "      <td>intermediate</td>\n",
              "      <td>9300.0</td>\n",
              "    </tr>\n",
              "    <tr>\n",
              "      <th>24</th>\n",
              "      <td>CHEMBL133604</td>\n",
              "      <td>COc1cc(OC)cc(-c2cc3cnc(N)cc3nc2N)c1</td>\n",
              "      <td>inactive</td>\n",
              "      <td>17000.0</td>\n",
              "    </tr>\n",
              "    <tr>\n",
              "      <th>25</th>\n",
              "      <td>CHEMBL339856</td>\n",
              "      <td>COc1cc(OC)cc(-c2cc3cnc(NCCCN4CCOCC4)cc3nc2NC(=...</td>\n",
              "      <td>active</td>\n",
              "      <td>920.0</td>\n",
              "    </tr>\n",
              "    <tr>\n",
              "      <th>26</th>\n",
              "      <td>CHEMBL134354</td>\n",
              "      <td>COc1cc(OC)cc(-c2cc3cnc(N)cc3nc2NC(=O)NC(C)(C)C)c1</td>\n",
              "      <td>intermediate</td>\n",
              "      <td>1200.0</td>\n",
              "    </tr>\n",
              "    <tr>\n",
              "      <th>27</th>\n",
              "      <td>CHEMBL307697</td>\n",
              "      <td>O=[N+]([O-])c1ccc(NN=C(c2ccc(O)cc2)c2ccc(O)cc2...</td>\n",
              "      <td>active</td>\n",
              "      <td>9.0</td>\n",
              "    </tr>\n",
              "    <tr>\n",
              "      <th>28</th>\n",
              "      <td>CHEMBL71739</td>\n",
              "      <td>Nc1ccc2nc3ccc(N)cc3[s+]c2c1.O=[N+]([O-])c1ccc(...</td>\n",
              "      <td>active</td>\n",
              "      <td>0.2</td>\n",
              "    </tr>\n",
              "    <tr>\n",
              "      <th>29</th>\n",
              "      <td>CHEMBL306791</td>\n",
              "      <td>CN(C)c1ccc2nc3ccc(N(C)C)cc3[s+]c2c1.O=[N+]([O-...</td>\n",
              "      <td>active</td>\n",
              "      <td>2.0</td>\n",
              "    </tr>\n",
              "  </tbody>\n",
              "</table>\n",
              "</div>"
            ],
            "text/plain": [
              "   molecule_chembl_id  ... standard_value\n",
              "0         CHEMBL84463  ...           62.0\n",
              "1         CHEMBL23330  ...       174000.0\n",
              "2        CHEMBL311087  ...          145.0\n",
              "3        CHEMBL288377  ...            0.2\n",
              "4         CHEMBL78019  ...          224.0\n",
              "5        CHEMBL314246  ...          114.0\n",
              "6        CHEMBL316382  ...           59.0\n",
              "7        CHEMBL314247  ...          106.0\n",
              "8         CHEMBL79354  ...          189.0\n",
              "9         CHEMBL83545  ...          223.0\n",
              "10        CHEMBL37705  ...            1.1\n",
              "11        CHEMBL23612  ...        58000.0\n",
              "12       CHEMBL311195  ...          158.0\n",
              "13       CHEMBL314487  ...           13.0\n",
              "14        CHEMBL84381  ...           88.0\n",
              "15       CHEMBL313563  ...          152.0\n",
              "16       CHEMBL311598  ...          770.0\n",
              "17       CHEMBL611449  ...           10.0\n",
              "18       CHEMBL352708  ...           10.0\n",
              "19       CHEMBL134334  ...        17000.0\n",
              "20       CHEMBL135074  ...        11000.0\n",
              "21       CHEMBL299763  ...        15000.0\n",
              "22       CHEMBL135889  ...        12000.0\n",
              "23       CHEMBL422625  ...         9300.0\n",
              "24       CHEMBL133604  ...        17000.0\n",
              "25       CHEMBL339856  ...          920.0\n",
              "26       CHEMBL134354  ...         1200.0\n",
              "27       CHEMBL307697  ...            9.0\n",
              "28        CHEMBL71739  ...            0.2\n",
              "29       CHEMBL306791  ...            2.0\n",
              "\n",
              "[30 rows x 4 columns]"
            ]
          },
          "metadata": {},
          "execution_count": 100
        }
      ]
    },
    {
      "cell_type": "markdown",
      "metadata": {
        "id": "9tlgyexWh7YJ"
      },
      "source": [
        "#### Saves dataframe to CSV file"
      ]
    },
    {
      "cell_type": "code",
      "metadata": {
        "id": "nSNia7suXstR"
      },
      "source": [
        "df3.to_csv('bioactivity_preprocessed_data_ovarian_cancer_target.csv', index=False)"
      ],
      "execution_count": 103,
      "outputs": []
    },
    {
      "cell_type": "code",
      "metadata": {
        "id": "UuZf5-MEd-H5",
        "colab": {
          "base_uri": "https://localhost:8080/"
        },
        "outputId": "14233dd4-f456-4edd-e0f7-fa110b037c99"
      },
      "source": [
        "! ls -l"
      ],
      "execution_count": 104,
      "outputs": [
        {
          "output_type": "stream",
          "name": "stdout",
          "text": [
            "total 28\n",
            "-rw-r--r-- 1 root root 15903 Oct 21 20:07 bioactivity_data.csv\n",
            "-rw-r--r-- 1 root root  2745 Oct 21 20:41 bioactivity_preprocessed_data_ovarian_cancer_target.csv\n",
            "drwx------ 5 root root  4096 Oct 21 19:49 gdrive\n",
            "drwxr-xr-x 1 root root  4096 Oct  8 13:45 sample_data\n"
          ]
        }
      ]
    },
    {
      "cell_type": "markdown",
      "metadata": {
        "id": "_C7rqJKTePhV"
      },
      "source": [
        "Let's copy to the Google Drive"
      ]
    },
    {
      "cell_type": "code",
      "metadata": {
        "id": "ZfyvJcENeHDB"
      },
      "source": [
        "! cp bioactivity_preprocessed_data_ovarian_cancer_target.csv \"/content/gdrive/MyDrive/Bioinformatics/data\"\n",
        "! cp bioactivity_preprocessed_data_ovarian_cancer_target.csv \"/content/gdrive/My Drive/Colab Notebooks/data\"\n"
      ],
      "execution_count": 109,
      "outputs": []
    },
    {
      "cell_type": "code",
      "metadata": {
        "id": "7PU7yU9leLV5",
        "colab": {
          "base_uri": "https://localhost:8080/"
        },
        "outputId": "d78a1a67-9388-4059-f763-218d401973d3"
      },
      "source": [
        "! ls \"/content/gdrive/My Drive/Colab Notebooks/data\""
      ],
      "execution_count": 110,
      "outputs": [
        {
          "output_type": "stream",
          "name": "stdout",
          "text": [
            "bioactivity_data.csv  bioactivity_preprocessed_data_ovarian_cancer_target.csv\n"
          ]
        }
      ]
    },
    {
      "cell_type": "markdown",
      "metadata": {
        "id": "ZywB5K_Dlawb"
      },
      "source": [
        "---"
      ]
    }
  ]
}