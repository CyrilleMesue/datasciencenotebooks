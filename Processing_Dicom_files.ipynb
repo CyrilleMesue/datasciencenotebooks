{
  "nbformat": 4,
  "nbformat_minor": 0,
  "metadata": {
    "colab": {
      "name": "Processing Dicom files.ipynb",
      "provenance": [],
      "collapsed_sections": [],
      "mount_file_id": "1y6Rexxcs_FXTXKlVALS4W_H3DydMTLjA",
      "authorship_tag": "ABX9TyPVNWe9g604cFlw4xFsT8HP",
      "include_colab_link": true
    },
    "kernelspec": {
      "name": "python3",
      "display_name": "Python 3"
    },
    "language_info": {
      "name": "python"
    },
    "widgets": {
      "application/vnd.jupyter.widget-state+json": {
        "4f838510e666430eba0275dd0fa3b06b": {
          "model_module": "@jupyter-widgets/controls",
          "model_name": "HBoxModel",
          "state": {
            "_view_name": "HBoxView",
            "_dom_classes": [],
            "_model_name": "HBoxModel",
            "_view_module": "@jupyter-widgets/controls",
            "_model_module_version": "1.5.0",
            "_view_count": null,
            "_view_module_version": "1.5.0",
            "box_style": "",
            "layout": "IPY_MODEL_1bb2fa5161a94162aba7553a5988f4c9",
            "_model_module": "@jupyter-widgets/controls",
            "children": [
              "IPY_MODEL_d2a895fd9bf449c9ae146c97b42308ba",
              "IPY_MODEL_518b6cfa7f0e414fba562bb141d98822"
            ]
          }
        },
        "1bb2fa5161a94162aba7553a5988f4c9": {
          "model_module": "@jupyter-widgets/base",
          "model_name": "LayoutModel",
          "state": {
            "_view_name": "LayoutView",
            "grid_template_rows": null,
            "right": null,
            "justify_content": null,
            "_view_module": "@jupyter-widgets/base",
            "overflow": null,
            "_model_module_version": "1.2.0",
            "_view_count": null,
            "flex_flow": null,
            "width": null,
            "min_width": null,
            "border": null,
            "align_items": null,
            "bottom": null,
            "_model_module": "@jupyter-widgets/base",
            "top": null,
            "grid_column": null,
            "overflow_y": null,
            "overflow_x": null,
            "grid_auto_flow": null,
            "grid_area": null,
            "grid_template_columns": null,
            "flex": null,
            "_model_name": "LayoutModel",
            "justify_items": null,
            "grid_row": null,
            "max_height": null,
            "align_content": null,
            "visibility": null,
            "align_self": null,
            "height": null,
            "min_height": null,
            "padding": null,
            "grid_auto_rows": null,
            "grid_gap": null,
            "max_width": null,
            "order": null,
            "_view_module_version": "1.2.0",
            "grid_template_areas": null,
            "object_position": null,
            "object_fit": null,
            "grid_auto_columns": null,
            "margin": null,
            "display": null,
            "left": null
          }
        },
        "d2a895fd9bf449c9ae146c97b42308ba": {
          "model_module": "@jupyter-widgets/controls",
          "model_name": "FloatProgressModel",
          "state": {
            "_view_name": "ProgressView",
            "style": "IPY_MODEL_ad4bc66832c945c68abb18eea923d72d",
            "_dom_classes": [],
            "description": "100%",
            "_model_name": "FloatProgressModel",
            "bar_style": "success",
            "max": 1130,
            "_view_module": "@jupyter-widgets/controls",
            "_model_module_version": "1.5.0",
            "value": 1130,
            "_view_count": null,
            "_view_module_version": "1.5.0",
            "orientation": "horizontal",
            "min": 0,
            "description_tooltip": null,
            "_model_module": "@jupyter-widgets/controls",
            "layout": "IPY_MODEL_caa988b457704d0bb7f5383f740a5418"
          }
        },
        "518b6cfa7f0e414fba562bb141d98822": {
          "model_module": "@jupyter-widgets/controls",
          "model_name": "HTMLModel",
          "state": {
            "_view_name": "HTMLView",
            "style": "IPY_MODEL_1191f2307cc94b39bee5d50347358262",
            "_dom_classes": [],
            "description": "",
            "_model_name": "HTMLModel",
            "placeholder": "​",
            "_view_module": "@jupyter-widgets/controls",
            "_model_module_version": "1.5.0",
            "value": " 1130/1130 [40:04&lt;00:00,  2.13s/it]",
            "_view_count": null,
            "_view_module_version": "1.5.0",
            "description_tooltip": null,
            "_model_module": "@jupyter-widgets/controls",
            "layout": "IPY_MODEL_fbc128f3a02a4128bfd91624f8f1157b"
          }
        },
        "ad4bc66832c945c68abb18eea923d72d": {
          "model_module": "@jupyter-widgets/controls",
          "model_name": "ProgressStyleModel",
          "state": {
            "_view_name": "StyleView",
            "_model_name": "ProgressStyleModel",
            "description_width": "initial",
            "_view_module": "@jupyter-widgets/base",
            "_model_module_version": "1.5.0",
            "_view_count": null,
            "_view_module_version": "1.2.0",
            "bar_color": null,
            "_model_module": "@jupyter-widgets/controls"
          }
        },
        "caa988b457704d0bb7f5383f740a5418": {
          "model_module": "@jupyter-widgets/base",
          "model_name": "LayoutModel",
          "state": {
            "_view_name": "LayoutView",
            "grid_template_rows": null,
            "right": null,
            "justify_content": null,
            "_view_module": "@jupyter-widgets/base",
            "overflow": null,
            "_model_module_version": "1.2.0",
            "_view_count": null,
            "flex_flow": null,
            "width": null,
            "min_width": null,
            "border": null,
            "align_items": null,
            "bottom": null,
            "_model_module": "@jupyter-widgets/base",
            "top": null,
            "grid_column": null,
            "overflow_y": null,
            "overflow_x": null,
            "grid_auto_flow": null,
            "grid_area": null,
            "grid_template_columns": null,
            "flex": null,
            "_model_name": "LayoutModel",
            "justify_items": null,
            "grid_row": null,
            "max_height": null,
            "align_content": null,
            "visibility": null,
            "align_self": null,
            "height": null,
            "min_height": null,
            "padding": null,
            "grid_auto_rows": null,
            "grid_gap": null,
            "max_width": null,
            "order": null,
            "_view_module_version": "1.2.0",
            "grid_template_areas": null,
            "object_position": null,
            "object_fit": null,
            "grid_auto_columns": null,
            "margin": null,
            "display": null,
            "left": null
          }
        },
        "1191f2307cc94b39bee5d50347358262": {
          "model_module": "@jupyter-widgets/controls",
          "model_name": "DescriptionStyleModel",
          "state": {
            "_view_name": "StyleView",
            "_model_name": "DescriptionStyleModel",
            "description_width": "",
            "_view_module": "@jupyter-widgets/base",
            "_model_module_version": "1.5.0",
            "_view_count": null,
            "_view_module_version": "1.2.0",
            "_model_module": "@jupyter-widgets/controls"
          }
        },
        "fbc128f3a02a4128bfd91624f8f1157b": {
          "model_module": "@jupyter-widgets/base",
          "model_name": "LayoutModel",
          "state": {
            "_view_name": "LayoutView",
            "grid_template_rows": null,
            "right": null,
            "justify_content": null,
            "_view_module": "@jupyter-widgets/base",
            "overflow": null,
            "_model_module_version": "1.2.0",
            "_view_count": null,
            "flex_flow": null,
            "width": null,
            "min_width": null,
            "border": null,
            "align_items": null,
            "bottom": null,
            "_model_module": "@jupyter-widgets/base",
            "top": null,
            "grid_column": null,
            "overflow_y": null,
            "overflow_x": null,
            "grid_auto_flow": null,
            "grid_area": null,
            "grid_template_columns": null,
            "flex": null,
            "_model_name": "LayoutModel",
            "justify_items": null,
            "grid_row": null,
            "max_height": null,
            "align_content": null,
            "visibility": null,
            "align_self": null,
            "height": null,
            "min_height": null,
            "padding": null,
            "grid_auto_rows": null,
            "grid_gap": null,
            "max_width": null,
            "order": null,
            "_view_module_version": "1.2.0",
            "grid_template_areas": null,
            "object_position": null,
            "object_fit": null,
            "grid_auto_columns": null,
            "margin": null,
            "display": null,
            "left": null
          }
        },
        "cb4d63c23b5548f994abe907813a3d3b": {
          "model_module": "@jupyter-widgets/controls",
          "model_name": "HBoxModel",
          "state": {
            "_view_name": "HBoxView",
            "_dom_classes": [],
            "_model_name": "HBoxModel",
            "_view_module": "@jupyter-widgets/controls",
            "_model_module_version": "1.5.0",
            "_view_count": null,
            "_view_module_version": "1.5.0",
            "box_style": "",
            "layout": "IPY_MODEL_0c7beba5c93e40b0a8f7751612599742",
            "_model_module": "@jupyter-widgets/controls",
            "children": [
              "IPY_MODEL_a811ee18465b4ec59ddd4b2003f58d7c",
              "IPY_MODEL_9b4aa23ff06d4290bcd71a94be90713b"
            ]
          }
        },
        "0c7beba5c93e40b0a8f7751612599742": {
          "model_module": "@jupyter-widgets/base",
          "model_name": "LayoutModel",
          "state": {
            "_view_name": "LayoutView",
            "grid_template_rows": null,
            "right": null,
            "justify_content": null,
            "_view_module": "@jupyter-widgets/base",
            "overflow": null,
            "_model_module_version": "1.2.0",
            "_view_count": null,
            "flex_flow": null,
            "width": null,
            "min_width": null,
            "border": null,
            "align_items": null,
            "bottom": null,
            "_model_module": "@jupyter-widgets/base",
            "top": null,
            "grid_column": null,
            "overflow_y": null,
            "overflow_x": null,
            "grid_auto_flow": null,
            "grid_area": null,
            "grid_template_columns": null,
            "flex": null,
            "_model_name": "LayoutModel",
            "justify_items": null,
            "grid_row": null,
            "max_height": null,
            "align_content": null,
            "visibility": null,
            "align_self": null,
            "height": null,
            "min_height": null,
            "padding": null,
            "grid_auto_rows": null,
            "grid_gap": null,
            "max_width": null,
            "order": null,
            "_view_module_version": "1.2.0",
            "grid_template_areas": null,
            "object_position": null,
            "object_fit": null,
            "grid_auto_columns": null,
            "margin": null,
            "display": null,
            "left": null
          }
        },
        "a811ee18465b4ec59ddd4b2003f58d7c": {
          "model_module": "@jupyter-widgets/controls",
          "model_name": "FloatProgressModel",
          "state": {
            "_view_name": "ProgressView",
            "style": "IPY_MODEL_f09ef21ddb5b4f81ad744556f2dcbe5f",
            "_dom_classes": [],
            "description": "100%",
            "_model_name": "FloatProgressModel",
            "bar_style": "success",
            "max": 1093,
            "_view_module": "@jupyter-widgets/controls",
            "_model_module_version": "1.5.0",
            "value": 1093,
            "_view_count": null,
            "_view_module_version": "1.5.0",
            "orientation": "horizontal",
            "min": 0,
            "description_tooltip": null,
            "_model_module": "@jupyter-widgets/controls",
            "layout": "IPY_MODEL_e745dda183c04b498de8540cc6df52b6"
          }
        },
        "9b4aa23ff06d4290bcd71a94be90713b": {
          "model_module": "@jupyter-widgets/controls",
          "model_name": "HTMLModel",
          "state": {
            "_view_name": "HTMLView",
            "style": "IPY_MODEL_6ee0d23dde364d919732239a53f40218",
            "_dom_classes": [],
            "description": "",
            "_model_name": "HTMLModel",
            "placeholder": "​",
            "_view_module": "@jupyter-widgets/controls",
            "_model_module_version": "1.5.0",
            "value": " 1093/1093 [39:05&lt;00:00,  2.15s/it]",
            "_view_count": null,
            "_view_module_version": "1.5.0",
            "description_tooltip": null,
            "_model_module": "@jupyter-widgets/controls",
            "layout": "IPY_MODEL_ef0b164bd560488fa18d0823162d628c"
          }
        },
        "f09ef21ddb5b4f81ad744556f2dcbe5f": {
          "model_module": "@jupyter-widgets/controls",
          "model_name": "ProgressStyleModel",
          "state": {
            "_view_name": "StyleView",
            "_model_name": "ProgressStyleModel",
            "description_width": "initial",
            "_view_module": "@jupyter-widgets/base",
            "_model_module_version": "1.5.0",
            "_view_count": null,
            "_view_module_version": "1.2.0",
            "bar_color": null,
            "_model_module": "@jupyter-widgets/controls"
          }
        },
        "e745dda183c04b498de8540cc6df52b6": {
          "model_module": "@jupyter-widgets/base",
          "model_name": "LayoutModel",
          "state": {
            "_view_name": "LayoutView",
            "grid_template_rows": null,
            "right": null,
            "justify_content": null,
            "_view_module": "@jupyter-widgets/base",
            "overflow": null,
            "_model_module_version": "1.2.0",
            "_view_count": null,
            "flex_flow": null,
            "width": null,
            "min_width": null,
            "border": null,
            "align_items": null,
            "bottom": null,
            "_model_module": "@jupyter-widgets/base",
            "top": null,
            "grid_column": null,
            "overflow_y": null,
            "overflow_x": null,
            "grid_auto_flow": null,
            "grid_area": null,
            "grid_template_columns": null,
            "flex": null,
            "_model_name": "LayoutModel",
            "justify_items": null,
            "grid_row": null,
            "max_height": null,
            "align_content": null,
            "visibility": null,
            "align_self": null,
            "height": null,
            "min_height": null,
            "padding": null,
            "grid_auto_rows": null,
            "grid_gap": null,
            "max_width": null,
            "order": null,
            "_view_module_version": "1.2.0",
            "grid_template_areas": null,
            "object_position": null,
            "object_fit": null,
            "grid_auto_columns": null,
            "margin": null,
            "display": null,
            "left": null
          }
        },
        "6ee0d23dde364d919732239a53f40218": {
          "model_module": "@jupyter-widgets/controls",
          "model_name": "DescriptionStyleModel",
          "state": {
            "_view_name": "StyleView",
            "_model_name": "DescriptionStyleModel",
            "description_width": "",
            "_view_module": "@jupyter-widgets/base",
            "_model_module_version": "1.5.0",
            "_view_count": null,
            "_view_module_version": "1.2.0",
            "_model_module": "@jupyter-widgets/controls"
          }
        },
        "ef0b164bd560488fa18d0823162d628c": {
          "model_module": "@jupyter-widgets/base",
          "model_name": "LayoutModel",
          "state": {
            "_view_name": "LayoutView",
            "grid_template_rows": null,
            "right": null,
            "justify_content": null,
            "_view_module": "@jupyter-widgets/base",
            "overflow": null,
            "_model_module_version": "1.2.0",
            "_view_count": null,
            "flex_flow": null,
            "width": null,
            "min_width": null,
            "border": null,
            "align_items": null,
            "bottom": null,
            "_model_module": "@jupyter-widgets/base",
            "top": null,
            "grid_column": null,
            "overflow_y": null,
            "overflow_x": null,
            "grid_auto_flow": null,
            "grid_area": null,
            "grid_template_columns": null,
            "flex": null,
            "_model_name": "LayoutModel",
            "justify_items": null,
            "grid_row": null,
            "max_height": null,
            "align_content": null,
            "visibility": null,
            "align_self": null,
            "height": null,
            "min_height": null,
            "padding": null,
            "grid_auto_rows": null,
            "grid_gap": null,
            "max_width": null,
            "order": null,
            "_view_module_version": "1.2.0",
            "grid_template_areas": null,
            "object_position": null,
            "object_fit": null,
            "grid_auto_columns": null,
            "margin": null,
            "display": null,
            "left": null
          }
        }
      }
    }
  },
  "cells": [
    {
      "cell_type": "markdown",
      "metadata": {
        "id": "view-in-github",
        "colab_type": "text"
      },
      "source": [
        "<a href=\"https://colab.research.google.com/github/CyrilleMesue/dnagenes.github.io/blob/main/Processing_Dicom_files.ipynb\" target=\"_parent\"><img src=\"https://colab.research.google.com/assets/colab-badge.svg\" alt=\"Open In Colab\"/></a>"
      ]
    },
    {
      "cell_type": "code",
      "metadata": {
        "colab": {
          "base_uri": "https://localhost:8080/"
        },
        "id": "M6yKGfuvaq1j",
        "outputId": "a7c0ade1-1791-4056-a99d-3a8c22c23471"
      },
      "source": [
        "!pip install pydicom\n"
      ],
      "execution_count": 2,
      "outputs": [
        {
          "output_type": "stream",
          "text": [
            "Collecting pydicom\n",
            "\u001b[?25l  Downloading https://files.pythonhosted.org/packages/f4/15/df16546bc59bfca390cf072d473fb2c8acd4231636f64356593a63137e55/pydicom-2.1.2-py3-none-any.whl (1.9MB)\n",
            "\u001b[K     |████████████████████████████████| 1.9MB 3.9MB/s \n",
            "\u001b[?25hInstalling collected packages: pydicom\n",
            "Successfully installed pydicom-2.1.2\n"
          ],
          "name": "stdout"
        }
      ]
    },
    {
      "cell_type": "code",
      "metadata": {
        "colab": {
          "base_uri": "https://localhost:8080/"
        },
        "id": "5DuQgzDPhPtb",
        "outputId": "25587ffb-264e-486e-d073-757feb8624ac"
      },
      "source": [
        "!pip install pylibjpeg pylibjpeg-libjpeg pydicom"
      ],
      "execution_count": 4,
      "outputs": [
        {
          "output_type": "stream",
          "text": [
            "Collecting pylibjpeg\n",
            "  Downloading https://files.pythonhosted.org/packages/df/05/b6599eac7d69eb66c49e907243188ef502d006cde42368c60fd52d9fb478/pylibjpeg-1.3.0-py3-none-any.whl\n",
            "Collecting pylibjpeg-libjpeg\n",
            "\u001b[?25l  Downloading https://files.pythonhosted.org/packages/51/4e/161e2d740e8682e491f272415a4cafc955265ec110238d6d59b486e63e8a/pylibjpeg_libjpeg-1.2.0-cp37-cp37m-manylinux2010_x86_64.whl (4.2MB)\n",
            "\u001b[K     |████████████████████████████████| 4.2MB 4.7MB/s \n",
            "\u001b[?25hRequirement already satisfied: pydicom in /usr/local/lib/python3.7/dist-packages (2.1.2)\n",
            "Requirement already satisfied: numpy in /usr/local/lib/python3.7/dist-packages (from pylibjpeg) (1.19.5)\n",
            "Collecting pylibjpeg-openjpeg\n",
            "\u001b[?25l  Downloading https://files.pythonhosted.org/packages/9d/3d/c38377257f8f00170f778a318576e3a5b38d4e43b56df5a70cf7570312b4/pylibjpeg_openjpeg-1.1.1-cp37-cp37m-manylinux2010_x86_64.whl (3.6MB)\n",
            "\u001b[K     |████████████████████████████████| 3.6MB 38.4MB/s \n",
            "\u001b[?25hCollecting pylibjpeg-rle\n",
            "\u001b[?25l  Downloading https://files.pythonhosted.org/packages/73/69/768d04031b12091c5395b8aecff7eeee6e3f5c117796e43b86df50b714ce/pylibjpeg_rle-1.1.0-cp37-cp37m-manylinux2010_x86_64.whl (884kB)\n",
            "\u001b[K     |████████████████████████████████| 890kB 38.9MB/s \n",
            "\u001b[?25hInstalling collected packages: pylibjpeg-openjpeg, pylibjpeg-rle, pylibjpeg, pylibjpeg-libjpeg\n",
            "Successfully installed pylibjpeg-1.3.0 pylibjpeg-libjpeg-1.2.0 pylibjpeg-openjpeg-1.1.1 pylibjpeg-rle-1.1.0\n"
          ],
          "name": "stdout"
        }
      ]
    },
    {
      "cell_type": "code",
      "metadata": {
        "colab": {
          "base_uri": "https://localhost:8080/",
          "height": 515
        },
        "id": "lzMivyyYknYt",
        "outputId": "1706b461-e874-43b7-ad40-c7e1408fe17e"
      },
      "source": [
        "!pip uninstall numpy\n",
        "!pip install --upgrade numpy"
      ],
      "execution_count": 5,
      "outputs": [
        {
          "output_type": "stream",
          "text": [
            "Uninstalling numpy-1.19.5:\n",
            "  Would remove:\n",
            "    /usr/bin/f2py\n",
            "    /usr/local/bin/f2py\n",
            "    /usr/local/bin/f2py3\n",
            "    /usr/local/bin/f2py3.7\n",
            "    /usr/local/lib/python3.7/dist-packages/numpy-1.19.5.dist-info/*\n",
            "    /usr/local/lib/python3.7/dist-packages/numpy.libs/libgfortran-2e0d59d6.so.5.0.0\n",
            "    /usr/local/lib/python3.7/dist-packages/numpy.libs/libopenblasp-r0-09e95953.3.13.so\n",
            "    /usr/local/lib/python3.7/dist-packages/numpy.libs/libquadmath-2d0c479f.so.0.0.0\n",
            "    /usr/local/lib/python3.7/dist-packages/numpy.libs/libz-eb09ad1d.so.1.2.3\n",
            "    /usr/local/lib/python3.7/dist-packages/numpy/*\n",
            "Proceed (y/n)? y\n",
            "  Successfully uninstalled numpy-1.19.5\n",
            "Collecting numpy\n",
            "\u001b[?25l  Downloading https://files.pythonhosted.org/packages/a5/42/560d269f604d3e186a57c21a363e77e199358d054884e61b73e405dd217c/numpy-1.20.3-cp37-cp37m-manylinux_2_12_x86_64.manylinux2010_x86_64.whl (15.3MB)\n",
            "\u001b[K     |████████████████████████████████| 15.3MB 62.8MB/s \n",
            "\u001b[31mERROR: tensorflow 2.5.0 has requirement numpy~=1.19.2, but you'll have numpy 1.20.3 which is incompatible.\u001b[0m\n",
            "\u001b[31mERROR: datascience 0.10.6 has requirement folium==0.2.1, but you'll have folium 0.8.3 which is incompatible.\u001b[0m\n",
            "\u001b[31mERROR: albumentations 0.1.12 has requirement imgaug<0.2.7,>=0.2.5, but you'll have imgaug 0.2.9 which is incompatible.\u001b[0m\n",
            "\u001b[?25hInstalling collected packages: numpy\n",
            "Successfully installed numpy-1.20.3\n"
          ],
          "name": "stdout"
        },
        {
          "output_type": "display_data",
          "data": {
            "application/vnd.colab-display-data+json": {
              "pip_warning": {
                "packages": [
                  "numpy"
                ]
              }
            }
          },
          "metadata": {
            "tags": []
          }
        }
      ]
    },
    {
      "cell_type": "code",
      "metadata": {
        "id": "JIa0cDyfhP2O"
      },
      "source": [
        ""
      ],
      "execution_count": null,
      "outputs": []
    },
    {
      "cell_type": "code",
      "metadata": {
        "id": "Rl-ed_AcalBr"
      },
      "source": [
        "import numpy as np\n",
        "import pydicom\n",
        "import pylibjpeg\n",
        "import os\n",
        "import matplotlib.pyplot as plt\n",
        "import cv2\n",
        "import dask\n",
        "from tqdm.notebook import tqdm\n",
        "from dask.diagnostics import ProgressBar\n",
        "from pathlib import Path"
      ],
      "execution_count": 1,
      "outputs": []
    },
    {
      "cell_type": "code",
      "metadata": {
        "colab": {
          "base_uri": "https://localhost:8080/"
        },
        "id": "kl2vBg9m4VNl",
        "outputId": "f6a28590-ff77-4d29-adae-b83b7b3b79b9"
      },
      "source": [
        "ischemic_dicom_images = Path(\"/content/drive/MyDrive/BrainCT/TRAINING/KANAMA/png/\")\n",
        "ischemic_dicom_img_paths = sorted(list(ischemic_dicom_images.glob(\"*.png\")))\n",
        "len(ischemic_dicom_img_paths)"
      ],
      "execution_count": 7,
      "outputs": [
        {
          "output_type": "execute_result",
          "data": {
            "text/plain": [
              "89"
            ]
          },
          "metadata": {
            "tags": []
          },
          "execution_count": 7
        }
      ]
    },
    {
      "cell_type": "code",
      "metadata": {
        "id": "Rr7v_ZZcarBT"
      },
      "source": [
        "ischemic_dicom_images = Path(\"/content/drive/MyDrive/BrainCT/TRAINING/ISKEMI/DICOM/\")\n",
        "ischemic_dicom_img_paths = sorted(list(ischemic_dicom_images.glob(\"*.dcm\")))\n",
        "hemorriage_dicom_images = Path(\"/content/drive/MyDrive/BrainCT/TRAINING/KANAMA/DICOM/\")\n",
        "hemorriage_dicom_img_paths = sorted(list(hemorriage_dicom_images.glob(\"*.dcm\")))"
      ],
      "execution_count": 8,
      "outputs": []
    },
    {
      "cell_type": "code",
      "metadata": {
        "id": "h200Pq1slCc2"
      },
      "source": [
        "from IPython.display import Image, display\n",
        "from tensorflow.keras.preprocessing.image import load_img\n",
        "import PIL\n",
        "from PIL import ImageOps"
      ],
      "execution_count": 9,
      "outputs": []
    },
    {
      "cell_type": "code",
      "metadata": {
        "id": "Ou2JJixjcGOp"
      },
      "source": [
        "def Dicom_to_Image(Path):\n",
        "    dcm_Img = pydicom.read_file(Path)\n",
        "\n",
        "    rows = dcm_Img.get(0x00280010).value #Get number of rows from tag (0028, 0010)\n",
        "    cols = dcm_Img.get(0x00280011).value #Get number of cols from tag (0028, 0011)\n",
        "\n",
        "    #Instance_Number = int(dcm_Img.get(0x00200013).value) #Get actual slice instance number from tag (0020, 0013)\n",
        "\n",
        "    #Window_Center = dcm_Img.get(0x00281050).value #Get window center from tag (0028, 1050)\n",
        "    #Window_Width = dcm_Img.get(0x00281051).value #Get window width from tag (0028, 1051)\n",
        "    Window_Center = np.array(dcm_Img.WindowCenter)\n",
        "    Window_Width = np.array(dcm_Img.WindowWidth)\n",
        "    \n",
        "    if Window_Center.size > 1:\n",
        "      Window_Max = Window_Center[0] + Window_Width[0] / 2\n",
        "      Window_Min = Window_Center[0] - Window_Width[0] / 2\n",
        "    else:\n",
        "      Window_Max = Window_Center + Window_Width / 2\n",
        "      Window_Min = Window_Center - Window_Width / 2\n",
        "\n",
        "\n",
        "    if (dcm_Img.get(0x00281052) is None):\n",
        "        Rescale_Intercept = 0\n",
        "    else:\n",
        "        Rescale_Intercept = int(dcm_Img.get(0x00281052).value)\n",
        "\n",
        "    if (dcm_Img.get(0x00281053) is None):\n",
        "        Rescale_Slope = 1\n",
        "    else:\n",
        "        Rescale_Slope = int(dcm_Img.get(0x00281053).value)\n",
        "\n",
        "    New_Img = np.zeros((rows, cols), np.uint8)\n",
        "    Pixels = dcm_Img.pixel_array\n",
        "\n",
        "    for i in range(0, rows):\n",
        "        for j in range(0, cols):\n",
        "            Pix_Val = Pixels[i][j]\n",
        "            Rescale_Pix_Val = Pix_Val * Rescale_Slope + Rescale_Intercept\n",
        "\n",
        "            if (Rescale_Pix_Val > Window_Max): #if intensity is greater than max window\n",
        "                New_Img[i][j] = 255\n",
        "            elif (Rescale_Pix_Val < Window_Min): #if intensity is less than min window\n",
        "                New_Img[i][j] = 0\n",
        "            else:\n",
        "               New_Img[i][j] = int(((Rescale_Pix_Val - Window_Min) / (Window_Max - Window_Min)) * 255) #Normalize the intensities\n",
        "\n",
        "    \n",
        "\n",
        "    return New_Img #, Instance_Number"
      ],
      "execution_count": 10,
      "outputs": []
    },
    {
      "cell_type": "code",
      "metadata": {
        "id": "xLO9puz4hC2q"
      },
      "source": [
        "def dcm_to_png(filepath):\n",
        "  image = Dicom_to_Image(filepath)\n",
        "  dcm_filename = filepath.parts[-1]\n",
        "  png_filename = dcm_filename.replace('.dcm','.png')\n",
        "  cv2.imwrite(outdir + png_filename, image)"
      ],
      "execution_count": 11,
      "outputs": []
    },
    {
      "cell_type": "code",
      "metadata": {
        "colab": {
          "base_uri": "https://localhost:8080/",
          "height": 122,
          "referenced_widgets": [
            "4f838510e666430eba0275dd0fa3b06b",
            "1bb2fa5161a94162aba7553a5988f4c9",
            "d2a895fd9bf449c9ae146c97b42308ba",
            "518b6cfa7f0e414fba562bb141d98822",
            "ad4bc66832c945c68abb18eea923d72d",
            "caa988b457704d0bb7f5383f740a5418",
            "1191f2307cc94b39bee5d50347358262",
            "fbc128f3a02a4128bfd91624f8f1157b"
          ]
        },
        "id": "TY7IfxzfhC-5",
        "outputId": "d18bc415-8c86-416c-cf8c-77fa0eda218f"
      },
      "source": [
        "outdir = '/content/drive/MyDrive/BrainCT/TRAINING/ISKEMI/png/'\n",
        "if not os.path.exists(outdir):\n",
        "  os.mkdir(outdir)\n",
        "\n",
        "for imagepath in tqdm(ischemic_dicom_img_paths):\n",
        "  dcm_to_png(imagepath)"
      ],
      "execution_count": 12,
      "outputs": [
        {
          "output_type": "display_data",
          "data": {
            "application/vnd.jupyter.widget-view+json": {
              "model_id": "4f838510e666430eba0275dd0fa3b06b",
              "version_minor": 0,
              "version_major": 2
            },
            "text/plain": [
              "HBox(children=(FloatProgress(value=0.0, max=1130.0), HTML(value='')))"
            ]
          },
          "metadata": {
            "tags": []
          }
        },
        {
          "output_type": "stream",
          "text": [
            "/usr/local/lib/python3.7/dist-packages/pydicom/pixel_data_handlers/pillow_handler.py:177: UserWarning: The (0028,0101) 'Bits Stored' value (12-bit) doesn't match the JPEG 2000 data (16-bit). It's recommended that you change the 'Bits Stored' value\n",
            "  f\"The (0028,0101) 'Bits Stored' value ({ds.BitsStored}-bit) \"\n"
          ],
          "name": "stderr"
        },
        {
          "output_type": "stream",
          "text": [
            "\n"
          ],
          "name": "stdout"
        }
      ]
    },
    {
      "cell_type": "code",
      "metadata": {
        "colab": {
          "base_uri": "https://localhost:8080/",
          "height": 157,
          "referenced_widgets": [
            "cb4d63c23b5548f994abe907813a3d3b",
            "0c7beba5c93e40b0a8f7751612599742",
            "a811ee18465b4ec59ddd4b2003f58d7c",
            "9b4aa23ff06d4290bcd71a94be90713b",
            "f09ef21ddb5b4f81ad744556f2dcbe5f",
            "e745dda183c04b498de8540cc6df52b6",
            "6ee0d23dde364d919732239a53f40218",
            "ef0b164bd560488fa18d0823162d628c"
          ]
        },
        "id": "LPQBxhs9gtR1",
        "outputId": "10b762b3-2e13-4b37-cba8-80522ba02678"
      },
      "source": [
        "outdir = '/content/drive/MyDrive/BrainCT/TRAINING/KANAMA/png/'\n",
        "if not os.path.exists(outdir):\n",
        "  os.mkdir(outdir)\n",
        "for imagepath in tqdm(hemorriage_dicom_img_paths):\n",
        "  dcm_to_png(imagepath)"
      ],
      "execution_count": 13,
      "outputs": [
        {
          "output_type": "display_data",
          "data": {
            "application/vnd.jupyter.widget-view+json": {
              "model_id": "cb4d63c23b5548f994abe907813a3d3b",
              "version_minor": 0,
              "version_major": 2
            },
            "text/plain": [
              "HBox(children=(FloatProgress(value=0.0, max=1093.0), HTML(value='')))"
            ]
          },
          "metadata": {
            "tags": []
          }
        },
        {
          "output_type": "stream",
          "text": [
            "/usr/local/lib/python3.7/dist-packages/pydicom/pixel_data_handlers/pillow_handler.py:177: UserWarning: The (0028,0101) 'Bits Stored' value (12-bit) doesn't match the JPEG 2000 data (16-bit). It's recommended that you change the 'Bits Stored' value\n",
            "  f\"The (0028,0101) 'Bits Stored' value ({ds.BitsStored}-bit) \"\n",
            "/usr/local/lib/python3.7/dist-packages/pydicom/pixel_data_handlers/pillow_handler.py:177: UserWarning: The (0028,0101) 'Bits Stored' value (13-bit) doesn't match the JPEG 2000 data (16-bit). It's recommended that you change the 'Bits Stored' value\n",
            "  f\"The (0028,0101) 'Bits Stored' value ({ds.BitsStored}-bit) \"\n"
          ],
          "name": "stderr"
        },
        {
          "output_type": "stream",
          "text": [
            "\n"
          ],
          "name": "stdout"
        }
      ]
    }
  ]
}